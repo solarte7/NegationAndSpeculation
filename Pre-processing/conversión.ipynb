{
 "cells": [
  {
   "cell_type": "code",
   "execution_count": 1,
   "metadata": {},
   "outputs": [],
   "source": [
    "import pandas as pd\n",
    "import numpy as np\n",
    "import h5py\n",
    "\n",
    "name1 = \"training.bio\"\n",
    "dta1 = pd.read_hdf(name1 + '.h5', 'df1')\n",
    "df1 = dta1[['word', 'ner', 'tokpos']]\n",
    "indi1 = df1.loc[df1['tokpos'] == 'SOS']\n",
    "\n",
    "name2 = \"testing.bio\"\n",
    "dta2 = pd.read_hdf(name2 + '.h5', 'df2')\n",
    "df2 = dta2[['word', 'ner', 'tokpos']]\n",
    "indi2 = df2.loc[df2['tokpos'] == 'SOS']\n",
    "\n",
    "name3 = \"developing.bio\"\n",
    "dta3 = pd.read_hdf(name3 + '.h5', 'df3')\n",
    "df3 = dta3[['word', 'ner', 'tokpos']]\n",
    "indi3 = df3.loc[df3['tokpos'] == 'SOS']"
   ]
  },
  {
   "cell_type": "code",
   "execution_count": 2,
   "metadata": {},
   "outputs": [],
   "source": [
    "#print(indi1)\n",
    "#print(indi2)"
   ]
  },
  {
   "cell_type": "code",
   "execution_count": 3,
   "metadata": {},
   "outputs": [],
   "source": [
    "for index, row in indi1.iterrows():\n",
    "    if index != 0:\n",
    "        dta1.at[(index - 1), \"tokpos\"] = 'EOS'"
   ]
  },
  {
   "cell_type": "code",
   "execution_count": 4,
   "metadata": {},
   "outputs": [],
   "source": [
    "for index, row in indi2.iterrows():\n",
    "    if index != 0:\n",
    "        dta2.at[(index - 1), \"tokpos\"] = 'EOS'"
   ]
  },
  {
   "cell_type": "code",
   "execution_count": 5,
   "metadata": {},
   "outputs": [],
   "source": [
    "for index, row in indi3.iterrows():\n",
    "    if index != 0:\n",
    "        dta3.at[(index - 1), \"tokpos\"] = 'EOS'"
   ]
  },
  {
   "cell_type": "code",
   "execution_count": 6,
   "metadata": {},
   "outputs": [],
   "source": [
    "dta1.to_hdf(name1 + '.mod.h5', key='df1', mode='w')\n",
    "\n",
    "dta2.to_hdf(name2 + '.mod.h5', key='df2', mode='w')\n",
    "\n",
    "dta3.to_hdf(name3 + '.mod.h5', key='df3', mode='w')"
   ]
  },
  {
   "cell_type": "code",
   "execution_count": null,
   "metadata": {},
   "outputs": [],
   "source": []
  }
 ],
 "metadata": {
  "kernelspec": {
   "display_name": "Python 3",
   "language": "python",
   "name": "python3"
  },
  "language_info": {
   "codemirror_mode": {
    "name": "ipython",
    "version": 3
   },
   "file_extension": ".py",
   "mimetype": "text/x-python",
   "name": "python",
   "nbconvert_exporter": "python",
   "pygments_lexer": "ipython3",
   "version": "3.6.8"
  }
 },
 "nbformat": 4,
 "nbformat_minor": 4
}
