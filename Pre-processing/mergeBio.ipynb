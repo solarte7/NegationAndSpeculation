{
 "cells": [
  {
   "cell_type": "code",
   "execution_count": 1,
   "metadata": {},
   "outputs": [],
   "source": [
    "import os\n",
    "\n",
    "dataset = ['training', 'testing', 'developing']\n",
    "path    = os.getcwd() + '/BIO_Lemma/'\n",
    "\n",
    "#print(path)\n",
    "\n",
    "for folder in dataset:\n",
    "    files = []\n",
    "    # r=root, d=directories, f = files\n",
    "    for r, d, f in os.walk(path + folder):\n",
    "        for file in f:\n",
    "            if file.endswith(\".bio\"):\n",
    "                #print(os.path.join(r, file))\n",
    "                files.append(os.path.join(r, file))\n",
    "    \n",
    "    data = \"\"\n",
    "    for i, f in enumerate(files):\n",
    "        with open(f) as fp: \n",
    "            data += fp.read()\n",
    "        data += '\\n'\n",
    "    \n",
    "    with open (path + folder + '.bio', 'w') as fp:\n",
    "        fp.write(data)"
   ]
  },
  {
   "cell_type": "code",
   "execution_count": null,
   "metadata": {},
   "outputs": [],
   "source": []
  }
 ],
 "metadata": {
  "kernelspec": {
   "display_name": "Python 3",
   "language": "python",
   "name": "python3"
  },
  "language_info": {
   "codemirror_mode": {
    "name": "ipython",
    "version": 3
   },
   "file_extension": ".py",
   "mimetype": "text/x-python",
   "name": "python",
   "nbconvert_exporter": "python",
   "pygments_lexer": "ipython3",
   "version": "3.6.9"
  }
 },
 "nbformat": 4,
 "nbformat_minor": 2
}
