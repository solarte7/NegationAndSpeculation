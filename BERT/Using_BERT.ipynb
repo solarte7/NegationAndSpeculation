{
 "cells": [
  {
   "cell_type": "markdown",
   "metadata": {},
   "source": [
    "# Detecting negation and Uncertainty using BERT"
   ]
  },
  {
   "cell_type": "code",
   "execution_count": null,
   "metadata": {
    "execution": {
     "iopub.execute_input": "2021-07-22T17:08:45.974705Z",
     "iopub.status.busy": "2021-07-22T17:08:45.973946Z",
     "iopub.status.idle": "2021-07-22T17:08:54.757435Z",
     "shell.execute_reply": "2021-07-22T17:08:54.756657Z",
     "shell.execute_reply.started": "2021-07-22T16:50:43.182727Z"
    },
    "papermill": {
     "duration": 8.817707,
     "end_time": "2021-07-22T17:08:54.757583",
     "exception": false,
     "start_time": "2021-07-22T17:08:45.939876",
     "status": "completed"
    },
    "tags": []
   },
   "outputs": [],
   "source": [
    "import sys\n",
    "sys.path.append('../input/libsutils')\n",
    "\n",
    "import tensorflow as tf\n",
    "import matplotlib.pyplot as plt\n",
    "import numpy as np\n",
    "import pickle\n",
    "import pandas as pd\n",
    "import requests\n",
    "import tarfile\n",
    "from itertools import islice\n",
    "\n",
    "from tabulate import tabulate\n",
    "from sklearn.metrics import confusion_matrix\n",
    "from sklearn.metrics import classification_report as eskclarep\n",
    "from seqeval.metrics import precision_score, recall_score, f1_score, accuracy_score\n",
    "from seqeval.metrics import classification_report as seqclarep\n",
    "from sklearn.preprocessing import LabelBinarizer\n",
    "from itertools import chain\n",
    "\n",
    "from tensorflow import keras\n",
    "from tensorflow.keras.layers import Dense, Input, Dropout, TimeDistributed\n",
    "from tensorflow.keras.optimizers import Adam\n",
    "from tensorflow.keras.models import Model\n",
    "from tensorflow.keras.callbacks import ModelCheckpoint\n",
    "from tensorflow.keras.preprocessing.sequence import pad_sequences\n",
    "from tensorflow.keras.utils import to_categorical\n",
    "\n",
    "from sklearn import preprocessing\n",
    "from tokenizers import BertWordPieceTokenizer\n",
    "from utils import build_matrix_embeddings as bme, plot_model_performance, logits_to_tokens, report_to_df\n",
    "from transformers import (\n",
    "    TF2_WEIGHTS_NAME,\n",
    "    BertConfig,\n",
    "    BertTokenizer,\n",
    "    TFBertForTokenClassification,\n",
    "    create_optimizer)\n",
    "\n",
    "from tensorflow.keras.callbacks import ModelCheckpoint\n",
    "from tensorflow.keras.callbacks import TensorBoard\n",
    "import tensorflow.keras.backend as kb\n",
    "\n",
    "from IPython.core.display import display, HTML\n",
    "from crfta import CRF as crf4\n",
    "\n",
    "import datetime, os\n",
    "import random\n",
    "import time\n",
    "from tqdm import tqdm\n",
    "\n",
    "SEED = 42\n",
    "os.environ['PYTHONHASHSEED']=str(SEED)\n",
    "os.environ['TF_CUDNN_DETERMINISTIC'] = '1'  # TF 2.1+\n",
    "random.seed(SEED)\n",
    "np.random.seed(SEED)\n",
    "tf.random.set_seed(SEED)\n",
    "\n",
    "MODEL         = 'model-08-bert'\n",
    "logs_base_dir = \"./logs\"\n",
    "log_dir       = logs_base_dir + \"/\" + MODEL\n",
    "save_base_dir = './model-save'\n",
    "save_dir      = save_base_dir + \"/\" + MODEL\n",
    "\n",
    "os.makedirs(logs_base_dir, exist_ok=True)\n",
    "os.makedirs(log_dir,       exist_ok=True)\n",
    "os.makedirs(save_base_dir, exist_ok=True)\n",
    "os.makedirs(save_dir,      exist_ok=True)\n",
    "\n",
    "%load_ext tensorboard\n",
    "\n",
    "# ****** DEFINICION DE PARAMETROS *********\n",
    "LEN_SENTS   = 190\n",
    "MAX_LEN     = 348 #2860\n",
    "NUM_TAGS    = 9 + 3\n",
    "\n",
    "# ****** DEFINICION DE HIPERPARAMETROS *********\n",
    "_EPOCHS      = 5\n",
    "_DROPOUT     = 0.4\n",
    "_BACH_SIZE   = 64\n",
    "\n",
    "configuration = BertConfig()\n",
    "\n",
    "BERT_MODEL = \"bert-base-multilingual-cased\"\n",
    "ESPECIAL_TOKEN = 9\n",
    "SEP_TOKEN      = 10\n",
    "PAD_TOKEN      = 11\n",
    "WORD_PAD_TOKEN = 0\n",
    "\n",
    "gpus = tf.config.experimental.list_physical_devices('GPU')\n",
    "if gpus:\n",
    "    try:\n",
    "        # Currently, memory growth needs to be the same across GPUs\n",
    "        for gpu in gpus:\n",
    "            tf.config.experimental.set_memory_growth(gpu, True)\n",
    "            \n",
    "        logical_gpus = tf.config.experimental.list_logical_devices('GPU')\n",
    "        print(len(gpus), \"Physical GPUs,\", len(logical_gpus), \"Logical GPUs\")\n",
    "    except RuntimeError as e:\n",
    "        # Memory growth must be set before GPUs have been initialized\n",
    "        print(e)"
   ]
  },
  {
   "cell_type": "markdown",
   "metadata": {
    "papermill": {
     "duration": 0.031667,
     "end_time": "2021-07-22T17:08:54.820446",
     "exception": false,
     "start_time": "2021-07-22T17:08:54.788779",
     "status": "completed"
    },
    "tags": []
   },
   "source": [
    "### Function to load data"
   ]
  },
  {
   "cell_type": "code",
   "execution_count": null,
   "metadata": {
    "execution": {
     "iopub.execute_input": "2021-07-22T17:08:54.886648Z",
     "iopub.status.busy": "2021-07-22T17:08:54.885976Z",
     "iopub.status.idle": "2021-07-22T17:08:54.893348Z",
     "shell.execute_reply": "2021-07-22T17:08:54.892813Z",
     "shell.execute_reply.started": "2021-07-22T16:50:52.075178Z"
    },
    "papermill": {
     "duration": 0.041512,
     "end_time": "2021-07-22T17:08:54.893521",
     "exception": false,
     "start_time": "2021-07-22T17:08:54.852009",
     "status": "completed"
    },
    "tags": []
   },
   "outputs": [],
   "source": [
    "def process_csv(data_path):\n",
    "    df = pd.read_csv(data_path, encoding=\"utf-8\")\n",
    "    df.loc[:, \"Sentence #\"] = df[\"Sentence #\"].fillna(method=\"ffill\")\n",
    "    enc_tag = preprocessing.LabelEncoder()\n",
    "    df.loc[:, \"Tag\"] = enc_tag.fit_transform(df[\"Tag\"])\n",
    "    sentences_l = df.groupby(\"Sentence #\")[\"Word\"].apply(list).values\n",
    "    sentences = sentences_l.tolist()\n",
    "    tag_l = df.groupby(\"Sentence #\")[\"Tag\"].apply(list).values\n",
    "    tag = tag_l.tolist()\n",
    "    return sentences, tag, enc_tag"
   ]
  },
  {
   "cell_type": "markdown",
   "metadata": {
    "papermill": {
     "duration": 0.031537,
     "end_time": "2021-07-22T17:08:54.957008",
     "exception": false,
     "start_time": "2021-07-22T17:08:54.925471",
     "status": "completed"
    },
    "tags": []
   },
   "source": [
    "## Loading  datasets"
   ]
  },
  {
   "cell_type": "code",
   "execution_count": null,
   "metadata": {
    "execution": {
     "iopub.execute_input": "2021-07-22T17:08:55.026035Z",
     "iopub.status.busy": "2021-07-22T17:08:55.025333Z",
     "iopub.status.idle": "2021-07-22T17:08:57.085738Z",
     "shell.execute_reply": "2021-07-22T17:08:57.084273Z",
     "shell.execute_reply.started": "2021-07-22T16:50:52.082730Z"
    },
    "papermill": {
     "duration": 2.097747,
     "end_time": "2021-07-22T17:08:57.085917",
     "exception": false,
     "start_time": "2021-07-22T17:08:54.988170",
     "status": "completed"
    },
    "tags": []
   },
   "outputs": [],
   "source": [
    "train_data_csv            = \"../input/vectors/sentences_train.csv\"\n",
    "X_train, y_train, enc_tag_train = process_csv(train_data_csv)\n",
    "\n",
    "test_data_csv             = \"../input/vectors/sentences_test.csv\"\n",
    "X_test, y_test, enc_tag_test   = process_csv(test_data_csv)\n",
    "\n",
    "dev_data_csv              = \"../input/vectors/sentences_dev.csv\"\n",
    "X_dev, y_dev, enc_tag_dev = process_csv(dev_data_csv)"
   ]
  },
  {
   "cell_type": "markdown",
   "metadata": {
    "papermill": {
     "duration": 0.031351,
     "end_time": "2021-07-22T17:08:57.150498",
     "exception": false,
     "start_time": "2021-07-22T17:08:57.119147",
     "status": "completed"
    },
    "tags": []
   },
   "source": [
    "## Print data loaded "
   ]
  },
  {
   "cell_type": "code",
   "execution_count": null,
   "metadata": {
    "execution": {
     "iopub.execute_input": "2021-07-22T17:08:57.217765Z",
     "iopub.status.busy": "2021-07-22T17:08:57.217068Z",
     "iopub.status.idle": "2021-07-22T17:08:57.221727Z",
     "shell.execute_reply": "2021-07-22T17:08:57.222249Z",
     "shell.execute_reply.started": "2021-07-22T16:50:54.093260Z"
    },
    "papermill": {
     "duration": 0.041158,
     "end_time": "2021-07-22T17:08:57.222462",
     "exception": false,
     "start_time": "2021-07-22T17:08:57.181304",
     "status": "completed"
    },
    "tags": []
   },
   "outputs": [],
   "source": [
    "print(X_train[0])\n",
    "print(y_train[0])\n",
    "print(enc_tag_test)\n",
    "\n",
    "#print(X_train[0][0])\n",
    "#print(X_train[0][1])\n",
    "#print(X_train[0][2])"
   ]
  },
  {
   "cell_type": "code",
   "execution_count": null,
   "metadata": {
    "execution": {
     "iopub.execute_input": "2021-07-22T17:08:57.317234Z",
     "iopub.status.busy": "2021-07-22T17:08:57.306901Z",
     "iopub.status.idle": "2021-07-22T17:08:57.339821Z",
     "shell.execute_reply": "2021-07-22T17:08:57.339058Z",
     "shell.execute_reply.started": "2021-07-22T16:50:54.103706Z"
    },
    "papermill": {
     "duration": 0.084553,
     "end_time": "2021-07-22T17:08:57.339973",
     "exception": false,
     "start_time": "2021-07-22T17:08:57.255420",
     "status": "completed"
    },
    "tags": []
   },
   "outputs": [],
   "source": [
    "list1 = y_train + y_test + y_dev\n",
    "tag_list = []\n",
    "for sublist in list1:\n",
    "    for x in sublist:\n",
    "        if x not in tag_list:\n",
    "            tag_list.append(x)\n",
    "            \n",
    "tag_list.append(9)\n",
    "tag_list.append(10)\n",
    "tag_list.append(11)"
   ]
  },
  {
   "cell_type": "code",
   "execution_count": null,
   "metadata": {
    "execution": {
     "iopub.execute_input": "2021-07-22T17:08:57.412709Z",
     "iopub.status.busy": "2021-07-22T17:08:57.411889Z",
     "iopub.status.idle": "2021-07-22T17:08:57.416113Z",
     "shell.execute_reply": "2021-07-22T17:08:57.415558Z",
     "shell.execute_reply.started": "2021-07-22T16:50:54.160828Z"
    },
    "papermill": {
     "duration": 0.043583,
     "end_time": "2021-07-22T17:08:57.416289",
     "exception": false,
     "start_time": "2021-07-22T17:08:57.372706",
     "status": "completed"
    },
    "tags": []
   },
   "outputs": [],
   "source": [
    "print(tag_list)\n",
    "le_dicti = {}\n",
    "le_dict  = dict(zip(enc_tag_test.transform(enc_tag_test.classes_), enc_tag_test.classes_))\n",
    "#print([le_dict.get(_, '[pad]') for _ in tag_list])\n",
    "#print(le_dict)\n",
    "le_dict[9]  = '[CLS]'\n",
    "le_dict[10] = '[SEP]'\n",
    "le_dict[11] = '[PAD]'\n",
    "\n",
    "for key in le_dict:\n",
    "    #print(key, '->', le_dict[key])\n",
    "    le_dicti[le_dict[key]] = key\n",
    "print(le_dicti)"
   ]
  },
  {
   "cell_type": "code",
   "execution_count": null,
   "metadata": {
    "execution": {
     "iopub.execute_input": "2021-07-22T17:08:57.487554Z",
     "iopub.status.busy": "2021-07-22T17:08:57.486848Z",
     "iopub.status.idle": "2021-07-22T17:08:57.490046Z",
     "shell.execute_reply": "2021-07-22T17:08:57.490594Z",
     "shell.execute_reply.started": "2021-07-22T16:50:54.169593Z"
    },
    "papermill": {
     "duration": 0.041228,
     "end_time": "2021-07-22T17:08:57.490781",
     "exception": false,
     "start_time": "2021-07-22T17:08:57.449553",
     "status": "completed"
    },
    "tags": []
   },
   "outputs": [],
   "source": [
    "#print(np.shape(tag_list))\n",
    "#label_map = {label: i for i, label in enumerate(tag_list)}\n",
    "#num_labels = len(label_map)\n",
    "num_labels = len(tag_list)\n",
    "#print(label_map)\n",
    "print(num_labels)\n"
   ]
  },
  {
   "cell_type": "markdown",
   "metadata": {
    "papermill": {
     "duration": 0.031479,
     "end_time": "2021-07-22T17:08:57.554110",
     "exception": false,
     "start_time": "2021-07-22T17:08:57.522631",
     "status": "completed"
    },
    "tags": []
   },
   "source": [
    "## Loading BERT Embedding"
   ]
  },
  {
   "cell_type": "code",
   "execution_count": null,
   "metadata": {
    "execution": {
     "iopub.execute_input": "2021-07-22T17:08:57.626585Z",
     "iopub.status.busy": "2021-07-22T17:08:57.625743Z",
     "iopub.status.idle": "2021-07-22T17:08:59.879327Z",
     "shell.execute_reply": "2021-07-22T17:08:59.879845Z",
     "shell.execute_reply.started": "2021-07-22T16:50:54.185210Z"
    },
    "papermill": {
     "duration": 2.29348,
     "end_time": "2021-07-22T17:08:59.880030",
     "exception": false,
     "start_time": "2021-07-22T17:08:57.586550",
     "status": "completed"
    },
    "tags": []
   },
   "outputs": [],
   "source": [
    "MODEL_CLASSES = {\"bert\": (BertConfig, TFBertForTokenClassification, BertTokenizer)}\n",
    "config_class, model_class, tokenizer_class = MODEL_CLASSES['bert']\n",
    "config = config_class.from_pretrained(BERT_MODEL, num_labels=num_labels)\n",
    "\n",
    "tokenizer = tokenizer_class.from_pretrained(BERT_MODEL, do_lower_case=False)"
   ]
  },
  {
   "cell_type": "markdown",
   "metadata": {
    "papermill": {
     "duration": 0.035196,
     "end_time": "2021-07-22T17:08:59.951441",
     "exception": false,
     "start_time": "2021-07-22T17:08:59.916245",
     "status": "completed"
    },
    "tags": []
   },
   "source": [
    "## Function that converts inputs data to BERT inputs"
   ]
  },
  {
   "cell_type": "code",
   "execution_count": null,
   "metadata": {
    "execution": {
     "iopub.execute_input": "2021-07-22T17:09:00.023820Z",
     "iopub.status.busy": "2021-07-22T17:09:00.022705Z",
     "iopub.status.idle": "2021-07-22T17:09:00.035830Z",
     "shell.execute_reply": "2021-07-22T17:09:00.036315Z",
     "shell.execute_reply.started": "2021-07-22T16:50:56.469726Z"
    },
    "papermill": {
     "duration": 0.051115,
     "end_time": "2021-07-22T17:09:00.036515",
     "exception": false,
     "start_time": "2021-07-22T17:08:59.985400",
     "status": "completed"
    },
    "tags": []
   },
   "outputs": [],
   "source": [
    "def convert_to_input(sentences, tags, in_ou_put):\n",
    "    input_id_list       = []\n",
    "    attention_mask_list = [] \n",
    "    token_type_id_list  = []\n",
    "    len_tokens          = []\n",
    "    len_sentences       = []\n",
    "    \n",
    "    \n",
    "    if in_ou_put == 1:\n",
    "        label_id_list   = []\n",
    "    else:\n",
    "        label_id_list   = 0\n",
    "    \n",
    "    for x,y in tqdm(zip(sentences,tags),total=len(tags)):\n",
    "        tokens = []\n",
    "        \n",
    "        if in_ou_put == 1:\n",
    "            label_ids = []\n",
    "        \n",
    "        for word, label in zip(x, y):\n",
    "            word_tokens = tokenizer.tokenize(str(word))\n",
    "            tokens.extend(word_tokens)\n",
    "            # Use the real label id for the first token of the word, \n",
    "            # and padding ids for the remaining tokens\n",
    "            if in_ou_put == 1:\n",
    "                label_ids.extend([label] + [SEP_TOKEN] * (len(word_tokens) - 1))\n",
    "        \n",
    "        \n",
    "        if in_ou_put == 1:\n",
    "            label_ids = [ESPECIAL_TOKEN] + label_ids + [ESPECIAL_TOKEN]\n",
    "        \n",
    "        len_tokens.append(len(label_ids))\n",
    "        len_sentences.append(len(x))\n",
    "        \n",
    "        inputs = tokenizer.encode_plus(tokens, add_special_tokens=True, max_length=MAX_LEN)\n",
    "        \n",
    "        input_ids       = inputs[\"input_ids\"]\n",
    "        token_type_ids  = inputs[\"token_type_ids\"]\n",
    "        attention_masks = inputs[\"attention_mask\"]\n",
    "        \n",
    "        attention_mask_list.append(attention_masks)\n",
    "        input_id_list.append(input_ids)\n",
    "        token_type_id_list.append(token_type_ids)\n",
    "        \n",
    "        if in_ou_put == 1:\n",
    "            label_id_list.append(label_ids)\n",
    "\n",
    "    input_id_list       = pad_sequences(maxlen=MAX_LEN, sequences=input_id_list,       dtype=\"int32\", padding=\"post\", value=WORD_PAD_TOKEN)\n",
    "    token_type_id_list  = pad_sequences(maxlen=MAX_LEN, sequences=token_type_id_list,  dtype=\"int32\", padding=\"post\")\n",
    "    attention_mask_list = pad_sequences(maxlen=MAX_LEN, sequences=attention_mask_list, dtype=\"int32\", padding=\"post\")\n",
    "    \n",
    "    print(\">>> :\", max(len_tokens))\n",
    "    print(\">>>> :\", max(len_sentences))\n",
    "    \n",
    "    if in_ou_put == 1:\n",
    "        label_id_list   = pad_sequences(maxlen=MAX_LEN, sequences=label_id_list, dtype=\"int32\", padding=\"post\", value=PAD_TOKEN)\n",
    "\n",
    "\n",
    "    return input_id_list, token_type_id_list, attention_mask_list, label_id_list"
   ]
  },
  {
   "cell_type": "code",
   "execution_count": null,
   "metadata": {
    "execution": {
     "iopub.execute_input": "2021-07-22T17:09:00.108808Z",
     "iopub.status.busy": "2021-07-22T17:09:00.107798Z",
     "iopub.status.idle": "2021-07-22T17:09:27.608312Z",
     "shell.execute_reply": "2021-07-22T17:09:27.609796Z",
     "shell.execute_reply.started": "2021-07-22T16:50:56.485179Z"
    },
    "papermill": {
     "duration": 27.538971,
     "end_time": "2021-07-22T17:09:27.610083",
     "exception": false,
     "start_time": "2021-07-22T17:09:00.071112",
     "status": "completed"
    },
    "tags": []
   },
   "outputs": [],
   "source": [
    "input_ids_train, token_ids_train, attention_masks_train, label_ids_train = convert_to_input(X_train, y_train, 1)\n",
    "\n",
    "input_ids_test,  token_ids_test,  attention_masks_test,  label_ids_test  = convert_to_input(X_test,  y_test,  1)\n",
    "\n",
    "input_ids_dev,   token_ids_dev,   attention_masks_dev,   label_ids_dev   = convert_to_input(X_dev,   y_dev,   1)"
   ]
  },
  {
   "cell_type": "code",
   "execution_count": null,
   "metadata": {
    "execution": {
     "iopub.execute_input": "2021-07-22T17:09:27.852864Z",
     "iopub.status.busy": "2021-07-22T17:09:27.851999Z",
     "iopub.status.idle": "2021-07-22T17:09:27.855474Z",
     "shell.execute_reply": "2021-07-22T17:09:27.854892Z",
     "shell.execute_reply.started": "2021-07-22T16:51:23.979241Z"
    },
    "papermill": {
     "duration": 0.122475,
     "end_time": "2021-07-22T17:09:27.855618",
     "exception": false,
     "start_time": "2021-07-22T17:09:27.733143",
     "status": "completed"
    },
    "tags": []
   },
   "outputs": [],
   "source": [
    "#input_ids_train.shape, token_ids_train.shape, attention_masks_train.shape, label_ids_train.shape"
   ]
  },
  {
   "cell_type": "code",
   "execution_count": null,
   "metadata": {
    "execution": {
     "iopub.execute_input": "2021-07-22T17:09:28.088769Z",
     "iopub.status.busy": "2021-07-22T17:09:28.087863Z",
     "iopub.status.idle": "2021-07-22T17:09:28.091672Z",
     "shell.execute_reply": "2021-07-22T17:09:28.090655Z",
     "shell.execute_reply.started": "2021-07-22T16:51:23.985877Z"
    },
    "papermill": {
     "duration": 0.122824,
     "end_time": "2021-07-22T17:09:28.091849",
     "exception": false,
     "start_time": "2021-07-22T17:09:27.969025",
     "status": "completed"
    },
    "tags": []
   },
   "outputs": [],
   "source": [
    "#input_ids_dev.shape,   token_ids_dev.shape, attention_masks_dev.shape,     label_ids_dev.shape"
   ]
  },
  {
   "cell_type": "markdown",
   "metadata": {
    "papermill": {
     "duration": 0.111178,
     "end_time": "2021-07-22T17:09:28.314797",
     "exception": false,
     "start_time": "2021-07-22T17:09:28.203619",
     "status": "completed"
    },
    "tags": []
   },
   "source": [
    "##  Model definition"
   ]
  },
  {
   "cell_type": "code",
   "execution_count": null,
   "metadata": {
    "execution": {
     "iopub.execute_input": "2021-07-22T17:09:28.542616Z",
     "iopub.status.busy": "2021-07-22T17:09:28.541911Z",
     "iopub.status.idle": "2021-07-22T17:09:28.550595Z",
     "shell.execute_reply": "2021-07-22T17:09:28.551128Z",
     "shell.execute_reply.started": "2021-07-22T16:51:24.000917Z"
    },
    "papermill": {
     "duration": 0.124882,
     "end_time": "2021-07-22T17:09:28.551308",
     "exception": false,
     "start_time": "2021-07-22T17:09:28.426426",
     "status": "completed"
    },
    "tags": []
   },
   "outputs": [],
   "source": [
    "optimizer = keras.optimizers.Adam(lr=5e-5)\n",
    "    \n",
    "#loss      = tf.keras.losses.BinaryCrossentropy(from_logits = True)\n",
    "#loss      = tf.keras.losses.CategoricalCrossentropy(from_logits = True)\n",
    "loss      = tf.keras.losses.SparseCategoricalCrossentropy(from_logits=True)"
   ]
  },
  {
   "cell_type": "code",
   "execution_count": null,
   "metadata": {
    "execution": {
     "iopub.execute_input": "2021-07-22T17:09:28.786321Z",
     "iopub.status.busy": "2021-07-22T17:09:28.785265Z",
     "iopub.status.idle": "2021-07-22T17:09:28.788551Z",
     "shell.execute_reply": "2021-07-22T17:09:28.787910Z",
     "shell.execute_reply.started": "2021-07-22T16:51:24.021034Z"
    },
    "papermill": {
     "duration": 0.124795,
     "end_time": "2021-07-22T17:09:28.788694",
     "exception": false,
     "start_time": "2021-07-22T17:09:28.663899",
     "status": "completed"
    },
    "tags": []
   },
   "outputs": [],
   "source": [
    "def create_model():\n",
    "    encoder        = model_class.from_pretrained(BERT_MODEL,\n",
    "                                                 from_pt=bool(\".bin\" in BERT_MODEL),\n",
    "                                                 config=config)\n",
    "    \n",
    "    input_ids      = Input(shape=(MAX_LEN,), dtype=tf.int32)\n",
    "    token_type_ids = Input(shape=(MAX_LEN,), dtype=tf.int32)\n",
    "    attention_mask = Input(shape=(MAX_LEN,), dtype=tf.int32)\n",
    "    \n",
    "    embedding = encoder(\n",
    "        input_ids=input_ids, token_type_ids=token_type_ids, attention_mask=attention_mask\n",
    "    )[0]\n",
    "    \n",
    "    embedding = Dropout(_DROPOUT)(embedding)\n",
    "    tag_logits = Dense(num_labels, activation='softmax')(embedding)\n",
    "    \n",
    "    \n",
    "    model = keras.Model(\n",
    "        inputs     = [input_ids, token_type_ids, attention_mask],\n",
    "        outputs    = [tag_logits],\n",
    "    )\n",
    "    \n",
    "    model.compile(optimizer=optimizer, loss=loss, metrics=['accuracy'])\n",
    "    \n",
    "    return model"
   ]
  },
  {
   "cell_type": "markdown",
   "metadata": {
    "papermill": {
     "duration": 0.112536,
     "end_time": "2021-07-22T17:09:29.015470",
     "exception": false,
     "start_time": "2021-07-22T17:09:28.902934",
     "status": "completed"
    },
    "tags": []
   },
   "source": [
    "## Model creation"
   ]
  },
  {
   "cell_type": "code",
   "execution_count": null,
   "metadata": {
    "execution": {
     "iopub.execute_input": "2021-07-22T17:09:29.241648Z",
     "iopub.status.busy": "2021-07-22T17:09:29.240920Z",
     "iopub.status.idle": "2021-07-22T17:10:41.154886Z",
     "shell.execute_reply": "2021-07-22T17:10:41.154130Z",
     "shell.execute_reply.started": "2021-07-22T16:51:24.032416Z"
    },
    "papermill": {
     "duration": 72.028227,
     "end_time": "2021-07-22T17:10:41.155048",
     "exception": false,
     "start_time": "2021-07-22T17:09:29.126821",
     "status": "completed"
    },
    "tags": []
   },
   "outputs": [],
   "source": [
    "use_tpu  = None\n",
    "use_gpu  = None\n",
    "factor_b = None\n",
    "try:\n",
    "    tpu      = tf.distribute.cluster_resolver.TPUClusterResolver()\n",
    "    use_tpu  = True\n",
    "except:\n",
    "    use_tpu  = False\n",
    "\n",
    "try:\n",
    "    gpus     = tf.config.experimental.list_logical_devices('GPU')\n",
    "    use_gpu  = True\n",
    "except:\n",
    "    use_gpu = False\n",
    "    \n",
    "if use_tpu:\n",
    "    print('tpu')\n",
    "    factor_b = 8\n",
    "    # Create distribution strategy\n",
    "    tf.config.experimental_connect_to_cluster(tpu)\n",
    "    tf.tpu.experimental.initialize_tpu_system(tpu)\n",
    "    strategy = tf.distribute.experimental.TPUStrategy(tpu)\n",
    "\n",
    "    # Create model\n",
    "    with strategy.scope():\n",
    "        model = create_model()\n",
    "elif use_gpu:\n",
    "    print('gpu')\n",
    "    factor_b = 0.25\n",
    "    # Create distribution strategy\n",
    "    if len(gpus) > 1:\n",
    "        strategy = tf.distribute.MirroredStrategy([gpu.name for gpu in gpus])\n",
    "    else:\n",
    "        strategy = tf.distribute.get_strategy()\n",
    "    \n",
    "    # Create model\n",
    "    with strategy.scope():\n",
    "        model = create_model()\n",
    "else:\n",
    "    model = create_model()\n",
    "    \n",
    "model.summary()"
   ]
  },
  {
   "cell_type": "markdown",
   "metadata": {
    "papermill": {
     "duration": 0.114714,
     "end_time": "2021-07-22T17:10:41.385799",
     "exception": false,
     "start_time": "2021-07-22T17:10:41.271085",
     "status": "completed"
    },
    "tags": []
   },
   "source": [
    "## Training the model"
   ]
  },
  {
   "cell_type": "code",
   "execution_count": null,
   "metadata": {
    "execution": {
     "iopub.execute_input": "2021-07-22T17:10:41.623537Z",
     "iopub.status.busy": "2021-07-22T17:10:41.622538Z",
     "iopub.status.idle": "2021-07-22T17:21:08.770385Z",
     "shell.execute_reply": "2021-07-22T17:21:08.770985Z",
     "shell.execute_reply.started": "2021-07-22T16:52:37.826191Z"
    },
    "papermill": {
     "duration": 627.271505,
     "end_time": "2021-07-22T17:21:08.771211",
     "exception": false,
     "start_time": "2021-07-22T17:10:41.499706",
     "status": "completed"
    },
    "tags": []
   },
   "outputs": [],
   "source": [
    "history = model.fit([input_ids_train, token_ids_train, attention_masks_train], label_ids_train,\n",
    "                    validation_data  = ([input_ids_dev, token_ids_dev, attention_masks_dev], label_ids_dev),\n",
    "                    batch_size       = int(_BACH_SIZE * factor_b),\n",
    "                    epochs           = _EPOCHS,\n",
    "                    verbose          = 1\n",
    "                   )"
   ]
  },
  {
   "cell_type": "code",
   "execution_count": null,
   "metadata": {
    "execution": {
     "iopub.execute_input": "2021-07-22T17:21:10.123924Z",
     "iopub.status.busy": "2021-07-22T17:21:10.123250Z",
     "iopub.status.idle": "2021-07-22T17:21:10.126654Z",
     "shell.execute_reply": "2021-07-22T17:21:10.126007Z",
     "shell.execute_reply.started": "2021-07-22T17:03:04.989278Z"
    },
    "papermill": {
     "duration": 0.345244,
     "end_time": "2021-07-22T17:21:10.126795",
     "exception": false,
     "start_time": "2021-07-22T17:21:09.781551",
     "status": "completed"
    },
    "tags": []
   },
   "outputs": [],
   "source": [
    "#tf.saved_model.save(model, export_dir=save_dir)"
   ]
  },
  {
   "cell_type": "code",
   "execution_count": null,
   "metadata": {
    "execution": {
     "iopub.execute_input": "2021-07-22T17:21:10.839943Z",
     "iopub.status.busy": "2021-07-22T17:21:10.839134Z",
     "iopub.status.idle": "2021-07-22T17:21:23.701184Z",
     "shell.execute_reply": "2021-07-22T17:21:23.700498Z",
     "shell.execute_reply.started": "2021-07-22T17:03:04.995841Z"
    },
    "papermill": {
     "duration": 13.237908,
     "end_time": "2021-07-22T17:21:23.701328",
     "exception": false,
     "start_time": "2021-07-22T17:21:10.463420",
     "status": "completed"
    },
    "tags": []
   },
   "outputs": [],
   "source": [
    "scores = model.evaluate([input_ids_test, token_ids_test, attention_masks_test], label_ids_test)\n",
    "print(f\"{model.metrics_names[1]}: {scores[1] * 100}\")"
   ]
  },
  {
   "cell_type": "code",
   "execution_count": null,
   "metadata": {
    "execution": {
     "iopub.execute_input": "2021-07-22T17:21:24.426611Z",
     "iopub.status.busy": "2021-07-22T17:21:24.425916Z",
     "iopub.status.idle": "2021-07-22T17:21:24.860309Z",
     "shell.execute_reply": "2021-07-22T17:21:24.860833Z",
     "shell.execute_reply.started": "2021-07-22T17:03:18.050968Z"
    },
    "papermill": {
     "duration": 0.808291,
     "end_time": "2021-07-22T17:21:24.861002",
     "exception": false,
     "start_time": "2021-07-22T17:21:24.052711",
     "status": "completed"
    },
    "tags": []
   },
   "outputs": [],
   "source": [
    "plot_model_performance(\n",
    "    train_loss     = history.history.get('loss', []),\n",
    "    train_acc      = history.history.get('accuracy', []),\n",
    "    train_val_loss = history.history.get('val_loss', []),\n",
    "    train_val_acc  = history.history.get('val_accuracy', [])\n",
    ")"
   ]
  },
  {
   "cell_type": "code",
   "execution_count": null,
   "metadata": {
    "execution": {
     "iopub.execute_input": "2021-07-22T17:21:25.565477Z",
     "iopub.status.busy": "2021-07-22T17:21:25.564426Z",
     "iopub.status.idle": "2021-07-22T17:21:42.013602Z",
     "shell.execute_reply": "2021-07-22T17:21:42.012853Z",
     "shell.execute_reply.started": "2021-07-22T17:03:18.507686Z"
    },
    "papermill": {
     "duration": 16.802812,
     "end_time": "2021-07-22T17:21:42.013830",
     "exception": false,
     "start_time": "2021-07-22T17:21:25.211018",
     "status": "completed"
    },
    "tags": []
   },
   "outputs": [],
   "source": [
    "prediction = model.predict([input_ids_test, token_ids_test, attention_masks_test])"
   ]
  },
  {
   "cell_type": "code",
   "execution_count": null,
   "metadata": {
    "execution": {
     "iopub.execute_input": "2021-07-22T17:21:42.726762Z",
     "iopub.status.busy": "2021-07-22T17:21:42.726072Z",
     "iopub.status.idle": "2021-07-22T17:21:42.755470Z",
     "shell.execute_reply": "2021-07-22T17:21:42.756004Z",
     "shell.execute_reply.started": "2021-07-22T17:03:34.773963Z"
    },
    "papermill": {
     "duration": 0.387411,
     "end_time": "2021-07-22T17:21:42.756186",
     "exception": false,
     "start_time": "2021-07-22T17:21:42.368775",
     "status": "completed"
    },
    "tags": []
   },
   "outputs": [],
   "source": [
    "pred_tags = np.argmax(prediction,-1)\n",
    "\n",
    "print(pred_tags[0])\n",
    "\n",
    "#le_dict = dict(zip(enc_tag_test.transform(enc_tag_test.classes_), enc_tag_test.classes_))\n",
    "#print('predicted tags')\n",
    "#print([le_dict.get(_, '[pad]') for _ in pred_tags])"
   ]
  },
  {
   "cell_type": "code",
   "execution_count": null,
   "metadata": {
    "execution": {
     "iopub.execute_input": "2021-07-22T17:21:43.465185Z",
     "iopub.status.busy": "2021-07-22T17:21:43.464501Z",
     "iopub.status.idle": "2021-07-22T17:21:44.203611Z",
     "shell.execute_reply": "2021-07-22T17:21:44.203037Z",
     "shell.execute_reply.started": "2021-07-22T17:03:34.797361Z"
    },
    "papermill": {
     "duration": 1.093201,
     "end_time": "2021-07-22T17:21:44.203754",
     "exception": false,
     "start_time": "2021-07-22T17:21:43.110553",
     "status": "completed"
    },
    "tags": []
   },
   "outputs": [],
   "source": [
    "y_pred = logits_to_tokens(pred_tags, le_dict)\n",
    "\n",
    "print(y_pred[0])"
   ]
  },
  {
   "cell_type": "code",
   "execution_count": null,
   "metadata": {
    "execution": {
     "iopub.execute_input": "2021-07-22T17:21:44.949332Z",
     "iopub.status.busy": "2021-07-22T17:21:44.944484Z",
     "iopub.status.idle": "2021-07-22T17:21:47.781860Z",
     "shell.execute_reply": "2021-07-22T17:21:47.782591Z",
     "shell.execute_reply.started": "2021-07-22T17:03:35.528814Z"
    },
    "papermill": {
     "duration": 3.227997,
     "end_time": "2021-07-22T17:21:47.782848",
     "exception": false,
     "start_time": "2021-07-22T17:21:44.554851",
     "status": "completed"
    },
    "tags": []
   },
   "outputs": [],
   "source": [
    "y_true = logits_to_tokens(label_ids_test, le_dict)\n",
    "\n",
    "print(y_true[0])"
   ]
  },
  {
   "cell_type": "code",
   "execution_count": null,
   "metadata": {
    "execution": {
     "iopub.execute_input": "2021-07-22T17:22:01.870992Z",
     "iopub.status.busy": "2021-07-22T17:21:55.201242Z",
     "iopub.status.idle": "2021-07-22T17:22:02.274199Z",
     "shell.execute_reply": "2021-07-22T17:22:02.273508Z",
     "shell.execute_reply.started": "2021-07-22T17:03:38.499580Z"
    },
    "papermill": {
     "duration": 14.140765,
     "end_time": "2021-07-22T17:22:02.274346",
     "exception": false,
     "start_time": "2021-07-22T17:21:48.133581",
     "status": "completed"
    },
    "tags": []
   },
   "outputs": [],
   "source": [
    "li1 = sum(y_true, [])\n",
    "li2 = sum(y_pred, [])\n",
    "\n",
    "results = pd.DataFrame(columns=['Expected', 'Predicted'])\n",
    "\n",
    "results['Expected']  = li1\n",
    "results['Predicted'] = li2"
   ]
  },
  {
   "cell_type": "code",
   "execution_count": null,
   "metadata": {
    "execution": {
     "iopub.execute_input": "2021-07-22T17:22:02.991588Z",
     "iopub.status.busy": "2021-07-22T17:22:02.986163Z",
     "iopub.status.idle": "2021-07-22T17:22:25.499076Z",
     "shell.execute_reply": "2021-07-22T17:22:25.497995Z",
     "shell.execute_reply.started": "2021-07-22T17:03:52.947613Z"
    },
    "papermill": {
     "duration": 22.874071,
     "end_time": "2021-07-22T17:22:25.499348",
     "exception": false,
     "start_time": "2021-07-22T17:22:02.625277",
     "status": "completed"
    },
    "tags": []
   },
   "outputs": [],
   "source": [
    "print(\"precision: {:.1%}\".format(precision_score(y_true, y_pred)))\n",
    "print(\"   recall: {:.1%}\".format(recall_score(y_true,    y_pred)))\n",
    "print(\" accuracy: {:.1%}\".format(accuracy_score(y_true,  y_pred)))\n",
    "print(\" F1-score: {:.1%}\".format(f1_score(y_true,        y_pred)))"
   ]
  },
  {
   "cell_type": "code",
   "execution_count": null,
   "metadata": {
    "execution": {
     "iopub.execute_input": "2021-07-22T17:22:26.212111Z",
     "iopub.status.busy": "2021-07-22T17:22:26.211423Z",
     "iopub.status.idle": "2021-07-22T17:23:32.034666Z",
     "shell.execute_reply": "2021-07-22T17:23:32.035750Z",
     "shell.execute_reply.started": "2021-07-22T17:04:15.804137Z"
    },
    "papermill": {
     "duration": 66.184864,
     "end_time": "2021-07-22T17:23:32.036086",
     "exception": false,
     "start_time": "2021-07-22T17:22:25.851222",
     "status": "completed"
    },
    "tags": []
   },
   "outputs": [],
   "source": [
    "report = eskclarep(results['Expected'], results['Predicted'])\n",
    "print(report_to_df(report))"
   ]
  }
 ],
 "metadata": {
  "kernelspec": {
   "display_name": "Python 3",
   "language": "python",
   "name": "python3"
  },
  "language_info": {
   "codemirror_mode": {
    "name": "ipython",
    "version": 3
   },
   "file_extension": ".py",
   "mimetype": "text/x-python",
   "name": "python",
   "nbconvert_exporter": "python",
   "pygments_lexer": "ipython3",
   "version": "3.8.5"
  },
  "papermill": {
   "default_parameters": {},
   "duration": 911.293269,
   "end_time": "2021-07-22T17:23:35.234480",
   "environment_variables": {},
   "exception": null,
   "input_path": "__notebook__.ipynb",
   "output_path": "__notebook__.ipynb",
   "parameters": {},
   "start_time": "2021-07-22T17:08:23.941211",
   "version": "2.3.3"
  },
  "widgets": {
   "application/vnd.jupyter.widget-state+json": {
    "state": {
     "00ea9d4d516843c29df3a9a56086e55b": {
      "model_module": "@jupyter-widgets/controls",
      "model_module_version": "1.5.0",
      "model_name": "DescriptionStyleModel",
      "state": {
       "_model_module": "@jupyter-widgets/controls",
       "_model_module_version": "1.5.0",
       "_model_name": "DescriptionStyleModel",
       "_view_count": null,
       "_view_module": "@jupyter-widgets/base",
       "_view_module_version": "1.2.0",
       "_view_name": "StyleView",
       "description_width": ""
      }
     },
     "02c470e24c9d45dfa152fb866d98972d": {
      "model_module": "@jupyter-widgets/controls",
      "model_module_version": "1.5.0",
      "model_name": "FloatProgressModel",
      "state": {
       "_dom_classes": [],
       "_model_module": "@jupyter-widgets/controls",
       "_model_module_version": "1.5.0",
       "_model_name": "FloatProgressModel",
       "_view_count": null,
       "_view_module": "@jupyter-widgets/controls",
       "_view_module_version": "1.5.0",
       "_view_name": "ProgressView",
       "bar_style": "success",
       "description": "",
       "description_tooltip": null,
       "layout": "IPY_MODEL_34071acd88b84ee4845ca3024018fbde",
       "max": 29,
       "min": 0,
       "orientation": "horizontal",
       "style": "IPY_MODEL_6d8ae194eac14c1181924917fc3649aa",
       "value": 29
      }
     },
     "039d74be69964d37a51bba7ae95072f3": {
      "model_module": "@jupyter-widgets/controls",
      "model_module_version": "1.5.0",
      "model_name": "HBoxModel",
      "state": {
       "_dom_classes": [],
       "_model_module": "@jupyter-widgets/controls",
       "_model_module_version": "1.5.0",
       "_model_name": "HBoxModel",
       "_view_count": null,
       "_view_module": "@jupyter-widgets/controls",
       "_view_module_version": "1.5.0",
       "_view_name": "HBoxView",
       "box_style": "",
       "children": [
        "IPY_MODEL_07448645a2a4460b90517a5aaa809003",
        "IPY_MODEL_da2362b93a434ea2b26fa7660561665d",
        "IPY_MODEL_0e8e98dbb4b743628d9325d85037b8d4"
       ],
       "layout": "IPY_MODEL_40ef398bdc1049c08d24e55d474d18dd"
      }
     },
     "04a2a4efc95e40ef90bd9bc088dea309": {
      "model_module": "@jupyter-widgets/base",
      "model_module_version": "1.2.0",
      "model_name": "LayoutModel",
      "state": {
       "_model_module": "@jupyter-widgets/base",
       "_model_module_version": "1.2.0",
       "_model_name": "LayoutModel",
       "_view_count": null,
       "_view_module": "@jupyter-widgets/base",
       "_view_module_version": "1.2.0",
       "_view_name": "LayoutView",
       "align_content": null,
       "align_items": null,
       "align_self": null,
       "border": null,
       "bottom": null,
       "display": null,
       "flex": null,
       "flex_flow": null,
       "grid_area": null,
       "grid_auto_columns": null,
       "grid_auto_flow": null,
       "grid_auto_rows": null,
       "grid_column": null,
       "grid_gap": null,
       "grid_row": null,
       "grid_template_areas": null,
       "grid_template_columns": null,
       "grid_template_rows": null,
       "height": null,
       "justify_content": null,
       "justify_items": null,
       "left": null,
       "margin": null,
       "max_height": null,
       "max_width": null,
       "min_height": null,
       "min_width": null,
       "object_fit": null,
       "object_position": null,
       "order": null,
       "overflow": null,
       "overflow_x": null,
       "overflow_y": null,
       "padding": null,
       "right": null,
       "top": null,
       "visibility": null,
       "width": null
      }
     },
     "05d593a7cb8f4e6882fd4bc0af54df15": {
      "model_module": "@jupyter-widgets/controls",
      "model_module_version": "1.5.0",
      "model_name": "HTMLModel",
      "state": {
       "_dom_classes": [],
       "_model_module": "@jupyter-widgets/controls",
       "_model_module_version": "1.5.0",
       "_model_name": "HTMLModel",
       "_view_count": null,
       "_view_module": "@jupyter-widgets/controls",
       "_view_module_version": "1.5.0",
       "_view_name": "HTMLView",
       "description": "",
       "description_tooltip": null,
       "layout": "IPY_MODEL_9007a3e0a22f40768a5815bcca1e32d0",
       "placeholder": "​",
       "style": "IPY_MODEL_f731912fe5e84047ab6a49fef870b56d",
       "value": " 1.08G/1.08G [00:36&lt;00:00, 27.1MB/s]"
      }
     },
     "07448645a2a4460b90517a5aaa809003": {
      "model_module": "@jupyter-widgets/controls",
      "model_module_version": "1.5.0",
      "model_name": "HTMLModel",
      "state": {
       "_dom_classes": [],
       "_model_module": "@jupyter-widgets/controls",
       "_model_module_version": "1.5.0",
       "_model_name": "HTMLModel",
       "_view_count": null,
       "_view_module": "@jupyter-widgets/controls",
       "_view_module_version": "1.5.0",
       "_view_name": "HTMLView",
       "description": "",
       "description_tooltip": null,
       "layout": "IPY_MODEL_66dace8a065d4fb7a5830a9318611651",
       "placeholder": "​",
       "style": "IPY_MODEL_5f036af5c19d4c5d8a1c167b1b7de7bf",
       "value": "Downloading: 100%"
      }
     },
     "0836222113094a28a1e92dfde6a12e77": {
      "model_module": "@jupyter-widgets/controls",
      "model_module_version": "1.5.0",
      "model_name": "DescriptionStyleModel",
      "state": {
       "_model_module": "@jupyter-widgets/controls",
       "_model_module_version": "1.5.0",
       "_model_name": "DescriptionStyleModel",
       "_view_count": null,
       "_view_module": "@jupyter-widgets/base",
       "_view_module_version": "1.2.0",
       "_view_name": "StyleView",
       "description_width": ""
      }
     },
     "0bcef849c8d1428294f941cb59a7f555": {
      "model_module": "@jupyter-widgets/base",
      "model_module_version": "1.2.0",
      "model_name": "LayoutModel",
      "state": {
       "_model_module": "@jupyter-widgets/base",
       "_model_module_version": "1.2.0",
       "_model_name": "LayoutModel",
       "_view_count": null,
       "_view_module": "@jupyter-widgets/base",
       "_view_module_version": "1.2.0",
       "_view_name": "LayoutView",
       "align_content": null,
       "align_items": null,
       "align_self": null,
       "border": null,
       "bottom": null,
       "display": null,
       "flex": null,
       "flex_flow": null,
       "grid_area": null,
       "grid_auto_columns": null,
       "grid_auto_flow": null,
       "grid_auto_rows": null,
       "grid_column": null,
       "grid_gap": null,
       "grid_row": null,
       "grid_template_areas": null,
       "grid_template_columns": null,
       "grid_template_rows": null,
       "height": null,
       "justify_content": null,
       "justify_items": null,
       "left": null,
       "margin": null,
       "max_height": null,
       "max_width": null,
       "min_height": null,
       "min_width": null,
       "object_fit": null,
       "object_position": null,
       "order": null,
       "overflow": null,
       "overflow_x": null,
       "overflow_y": null,
       "padding": null,
       "right": null,
       "top": null,
       "visibility": null,
       "width": null
      }
     },
     "0e8e98dbb4b743628d9325d85037b8d4": {
      "model_module": "@jupyter-widgets/controls",
      "model_module_version": "1.5.0",
      "model_name": "HTMLModel",
      "state": {
       "_dom_classes": [],
       "_model_module": "@jupyter-widgets/controls",
       "_model_module_version": "1.5.0",
       "_model_name": "HTMLModel",
       "_view_count": null,
       "_view_module": "@jupyter-widgets/controls",
       "_view_module_version": "1.5.0",
       "_view_name": "HTMLView",
       "description": "",
       "description_tooltip": null,
       "layout": "IPY_MODEL_8aad81dcbb1a48c3a4ad8b4ebcc6eef7",
       "placeholder": "​",
       "style": "IPY_MODEL_c461ee85246540419ab29c7835ce4f26",
       "value": " 625/625 [00:00&lt;00:00, 18.0kB/s]"
      }
     },
     "1b36320cd16942feb819624d69cf5361": {
      "model_module": "@jupyter-widgets/controls",
      "model_module_version": "1.5.0",
      "model_name": "HTMLModel",
      "state": {
       "_dom_classes": [],
       "_model_module": "@jupyter-widgets/controls",
       "_model_module_version": "1.5.0",
       "_model_name": "HTMLModel",
       "_view_count": null,
       "_view_module": "@jupyter-widgets/controls",
       "_view_module_version": "1.5.0",
       "_view_name": "HTMLView",
       "description": "",
       "description_tooltip": null,
       "layout": "IPY_MODEL_0bcef849c8d1428294f941cb59a7f555",
       "placeholder": "​",
       "style": "IPY_MODEL_e60a51a99fa74c9aa1ad22d0027f8059",
       "value": "Downloading: 100%"
      }
     },
     "26290d0701ec4927bf883e3a81ae27b3": {
      "model_module": "@jupyter-widgets/controls",
      "model_module_version": "1.5.0",
      "model_name": "HTMLModel",
      "state": {
       "_dom_classes": [],
       "_model_module": "@jupyter-widgets/controls",
       "_model_module_version": "1.5.0",
       "_model_name": "HTMLModel",
       "_view_count": null,
       "_view_module": "@jupyter-widgets/controls",
       "_view_module_version": "1.5.0",
       "_view_name": "HTMLView",
       "description": "",
       "description_tooltip": null,
       "layout": "IPY_MODEL_eef2c94f24cd4b7e9ac6e0df8fab87d3",
       "placeholder": "​",
       "style": "IPY_MODEL_00ea9d4d516843c29df3a9a56086e55b",
       "value": "Downloading: 100%"
      }
     },
     "2752a69a3e444ad5be367926643294f7": {
      "model_module": "@jupyter-widgets/base",
      "model_module_version": "1.2.0",
      "model_name": "LayoutModel",
      "state": {
       "_model_module": "@jupyter-widgets/base",
       "_model_module_version": "1.2.0",
       "_model_name": "LayoutModel",
       "_view_count": null,
       "_view_module": "@jupyter-widgets/base",
       "_view_module_version": "1.2.0",
       "_view_name": "LayoutView",
       "align_content": null,
       "align_items": null,
       "align_self": null,
       "border": null,
       "bottom": null,
       "display": null,
       "flex": null,
       "flex_flow": null,
       "grid_area": null,
       "grid_auto_columns": null,
       "grid_auto_flow": null,
       "grid_auto_rows": null,
       "grid_column": null,
       "grid_gap": null,
       "grid_row": null,
       "grid_template_areas": null,
       "grid_template_columns": null,
       "grid_template_rows": null,
       "height": null,
       "justify_content": null,
       "justify_items": null,
       "left": null,
       "margin": null,
       "max_height": null,
       "max_width": null,
       "min_height": null,
       "min_width": null,
       "object_fit": null,
       "object_position": null,
       "order": null,
       "overflow": null,
       "overflow_x": null,
       "overflow_y": null,
       "padding": null,
       "right": null,
       "top": null,
       "visibility": null,
       "width": null
      }
     },
     "2a1ec76a74454862a4059cc9a833562d": {
      "model_module": "@jupyter-widgets/base",
      "model_module_version": "1.2.0",
      "model_name": "LayoutModel",
      "state": {
       "_model_module": "@jupyter-widgets/base",
       "_model_module_version": "1.2.0",
       "_model_name": "LayoutModel",
       "_view_count": null,
       "_view_module": "@jupyter-widgets/base",
       "_view_module_version": "1.2.0",
       "_view_name": "LayoutView",
       "align_content": null,
       "align_items": null,
       "align_self": null,
       "border": null,
       "bottom": null,
       "display": null,
       "flex": null,
       "flex_flow": null,
       "grid_area": null,
       "grid_auto_columns": null,
       "grid_auto_flow": null,
       "grid_auto_rows": null,
       "grid_column": null,
       "grid_gap": null,
       "grid_row": null,
       "grid_template_areas": null,
       "grid_template_columns": null,
       "grid_template_rows": null,
       "height": null,
       "justify_content": null,
       "justify_items": null,
       "left": null,
       "margin": null,
       "max_height": null,
       "max_width": null,
       "min_height": null,
       "min_width": null,
       "object_fit": null,
       "object_position": null,
       "order": null,
       "overflow": null,
       "overflow_x": null,
       "overflow_y": null,
       "padding": null,
       "right": null,
       "top": null,
       "visibility": null,
       "width": null
      }
     },
     "31e623da2f654fcc9c2cd0ef767f7cc1": {
      "model_module": "@jupyter-widgets/controls",
      "model_module_version": "1.5.0",
      "model_name": "HBoxModel",
      "state": {
       "_dom_classes": [],
       "_model_module": "@jupyter-widgets/controls",
       "_model_module_version": "1.5.0",
       "_model_name": "HBoxModel",
       "_view_count": null,
       "_view_module": "@jupyter-widgets/controls",
       "_view_module_version": "1.5.0",
       "_view_name": "HBoxView",
       "box_style": "",
       "children": [
        "IPY_MODEL_1b36320cd16942feb819624d69cf5361",
        "IPY_MODEL_93de954ff3c4481889be2372d6497c09",
        "IPY_MODEL_76bd0740f2ba4460b844056ff00e70d0"
       ],
       "layout": "IPY_MODEL_801685f2cb6f46b4a76eb9e5b72cce45"
      }
     },
     "320f342b0385479d8a1922cc729731ab": {
      "model_module": "@jupyter-widgets/base",
      "model_module_version": "1.2.0",
      "model_name": "LayoutModel",
      "state": {
       "_model_module": "@jupyter-widgets/base",
       "_model_module_version": "1.2.0",
       "_model_name": "LayoutModel",
       "_view_count": null,
       "_view_module": "@jupyter-widgets/base",
       "_view_module_version": "1.2.0",
       "_view_name": "LayoutView",
       "align_content": null,
       "align_items": null,
       "align_self": null,
       "border": null,
       "bottom": null,
       "display": null,
       "flex": null,
       "flex_flow": null,
       "grid_area": null,
       "grid_auto_columns": null,
       "grid_auto_flow": null,
       "grid_auto_rows": null,
       "grid_column": null,
       "grid_gap": null,
       "grid_row": null,
       "grid_template_areas": null,
       "grid_template_columns": null,
       "grid_template_rows": null,
       "height": null,
       "justify_content": null,
       "justify_items": null,
       "left": null,
       "margin": null,
       "max_height": null,
       "max_width": null,
       "min_height": null,
       "min_width": null,
       "object_fit": null,
       "object_position": null,
       "order": null,
       "overflow": null,
       "overflow_x": null,
       "overflow_y": null,
       "padding": null,
       "right": null,
       "top": null,
       "visibility": null,
       "width": null
      }
     },
     "34071acd88b84ee4845ca3024018fbde": {
      "model_module": "@jupyter-widgets/base",
      "model_module_version": "1.2.0",
      "model_name": "LayoutModel",
      "state": {
       "_model_module": "@jupyter-widgets/base",
       "_model_module_version": "1.2.0",
       "_model_name": "LayoutModel",
       "_view_count": null,
       "_view_module": "@jupyter-widgets/base",
       "_view_module_version": "1.2.0",
       "_view_name": "LayoutView",
       "align_content": null,
       "align_items": null,
       "align_self": null,
       "border": null,
       "bottom": null,
       "display": null,
       "flex": null,
       "flex_flow": null,
       "grid_area": null,
       "grid_auto_columns": null,
       "grid_auto_flow": null,
       "grid_auto_rows": null,
       "grid_column": null,
       "grid_gap": null,
       "grid_row": null,
       "grid_template_areas": null,
       "grid_template_columns": null,
       "grid_template_rows": null,
       "height": null,
       "justify_content": null,
       "justify_items": null,
       "left": null,
       "margin": null,
       "max_height": null,
       "max_width": null,
       "min_height": null,
       "min_width": null,
       "object_fit": null,
       "object_position": null,
       "order": null,
       "overflow": null,
       "overflow_x": null,
       "overflow_y": null,
       "padding": null,
       "right": null,
       "top": null,
       "visibility": null,
       "width": null
      }
     },
     "389bed9aaa7a4368a5dd48cd0696c9ac": {
      "model_module": "@jupyter-widgets/controls",
      "model_module_version": "1.5.0",
      "model_name": "DescriptionStyleModel",
      "state": {
       "_model_module": "@jupyter-widgets/controls",
       "_model_module_version": "1.5.0",
       "_model_name": "DescriptionStyleModel",
       "_view_count": null,
       "_view_module": "@jupyter-widgets/base",
       "_view_module_version": "1.2.0",
       "_view_name": "StyleView",
       "description_width": ""
      }
     },
     "39717c07a5294bcdbf30fe5dad61e788": {
      "model_module": "@jupyter-widgets/controls",
      "model_module_version": "1.5.0",
      "model_name": "HBoxModel",
      "state": {
       "_dom_classes": [],
       "_model_module": "@jupyter-widgets/controls",
       "_model_module_version": "1.5.0",
       "_model_name": "HBoxModel",
       "_view_count": null,
       "_view_module": "@jupyter-widgets/controls",
       "_view_module_version": "1.5.0",
       "_view_name": "HBoxView",
       "box_style": "",
       "children": [
        "IPY_MODEL_26290d0701ec4927bf883e3a81ae27b3",
        "IPY_MODEL_68138cc66d8747ff8baf52868ec7e8aa",
        "IPY_MODEL_05d593a7cb8f4e6882fd4bc0af54df15"
       ],
       "layout": "IPY_MODEL_7856c37b730c483d934916d354a2f093"
      }
     },
     "40ef398bdc1049c08d24e55d474d18dd": {
      "model_module": "@jupyter-widgets/base",
      "model_module_version": "1.2.0",
      "model_name": "LayoutModel",
      "state": {
       "_model_module": "@jupyter-widgets/base",
       "_model_module_version": "1.2.0",
       "_model_name": "LayoutModel",
       "_view_count": null,
       "_view_module": "@jupyter-widgets/base",
       "_view_module_version": "1.2.0",
       "_view_name": "LayoutView",
       "align_content": null,
       "align_items": null,
       "align_self": null,
       "border": null,
       "bottom": null,
       "display": null,
       "flex": null,
       "flex_flow": null,
       "grid_area": null,
       "grid_auto_columns": null,
       "grid_auto_flow": null,
       "grid_auto_rows": null,
       "grid_column": null,
       "grid_gap": null,
       "grid_row": null,
       "grid_template_areas": null,
       "grid_template_columns": null,
       "grid_template_rows": null,
       "height": null,
       "justify_content": null,
       "justify_items": null,
       "left": null,
       "margin": null,
       "max_height": null,
       "max_width": null,
       "min_height": null,
       "min_width": null,
       "object_fit": null,
       "object_position": null,
       "order": null,
       "overflow": null,
       "overflow_x": null,
       "overflow_y": null,
       "padding": null,
       "right": null,
       "top": null,
       "visibility": null,
       "width": null
      }
     },
     "44e592a516734950ba934772ff0ff8f9": {
      "model_module": "@jupyter-widgets/controls",
      "model_module_version": "1.5.0",
      "model_name": "DescriptionStyleModel",
      "state": {
       "_model_module": "@jupyter-widgets/controls",
       "_model_module_version": "1.5.0",
       "_model_name": "DescriptionStyleModel",
       "_view_count": null,
       "_view_module": "@jupyter-widgets/base",
       "_view_module_version": "1.2.0",
       "_view_name": "StyleView",
       "description_width": ""
      }
     },
     "47fd4b6f94784076b8f74ab4d066a7c0": {
      "model_module": "@jupyter-widgets/controls",
      "model_module_version": "1.5.0",
      "model_name": "ProgressStyleModel",
      "state": {
       "_model_module": "@jupyter-widgets/controls",
       "_model_module_version": "1.5.0",
       "_model_name": "ProgressStyleModel",
       "_view_count": null,
       "_view_module": "@jupyter-widgets/base",
       "_view_module_version": "1.2.0",
       "_view_name": "StyleView",
       "bar_color": null,
       "description_width": ""
      }
     },
     "4dd87ae9b4464e40b9770bc771dac585": {
      "model_module": "@jupyter-widgets/base",
      "model_module_version": "1.2.0",
      "model_name": "LayoutModel",
      "state": {
       "_model_module": "@jupyter-widgets/base",
       "_model_module_version": "1.2.0",
       "_model_name": "LayoutModel",
       "_view_count": null,
       "_view_module": "@jupyter-widgets/base",
       "_view_module_version": "1.2.0",
       "_view_name": "LayoutView",
       "align_content": null,
       "align_items": null,
       "align_self": null,
       "border": null,
       "bottom": null,
       "display": null,
       "flex": null,
       "flex_flow": null,
       "grid_area": null,
       "grid_auto_columns": null,
       "grid_auto_flow": null,
       "grid_auto_rows": null,
       "grid_column": null,
       "grid_gap": null,
       "grid_row": null,
       "grid_template_areas": null,
       "grid_template_columns": null,
       "grid_template_rows": null,
       "height": null,
       "justify_content": null,
       "justify_items": null,
       "left": null,
       "margin": null,
       "max_height": null,
       "max_width": null,
       "min_height": null,
       "min_width": null,
       "object_fit": null,
       "object_position": null,
       "order": null,
       "overflow": null,
       "overflow_x": null,
       "overflow_y": null,
       "padding": null,
       "right": null,
       "top": null,
       "visibility": null,
       "width": null
      }
     },
     "5f036af5c19d4c5d8a1c167b1b7de7bf": {
      "model_module": "@jupyter-widgets/controls",
      "model_module_version": "1.5.0",
      "model_name": "DescriptionStyleModel",
      "state": {
       "_model_module": "@jupyter-widgets/controls",
       "_model_module_version": "1.5.0",
       "_model_name": "DescriptionStyleModel",
       "_view_count": null,
       "_view_module": "@jupyter-widgets/base",
       "_view_module_version": "1.2.0",
       "_view_name": "StyleView",
       "description_width": ""
      }
     },
     "66dace8a065d4fb7a5830a9318611651": {
      "model_module": "@jupyter-widgets/base",
      "model_module_version": "1.2.0",
      "model_name": "LayoutModel",
      "state": {
       "_model_module": "@jupyter-widgets/base",
       "_model_module_version": "1.2.0",
       "_model_name": "LayoutModel",
       "_view_count": null,
       "_view_module": "@jupyter-widgets/base",
       "_view_module_version": "1.2.0",
       "_view_name": "LayoutView",
       "align_content": null,
       "align_items": null,
       "align_self": null,
       "border": null,
       "bottom": null,
       "display": null,
       "flex": null,
       "flex_flow": null,
       "grid_area": null,
       "grid_auto_columns": null,
       "grid_auto_flow": null,
       "grid_auto_rows": null,
       "grid_column": null,
       "grid_gap": null,
       "grid_row": null,
       "grid_template_areas": null,
       "grid_template_columns": null,
       "grid_template_rows": null,
       "height": null,
       "justify_content": null,
       "justify_items": null,
       "left": null,
       "margin": null,
       "max_height": null,
       "max_width": null,
       "min_height": null,
       "min_width": null,
       "object_fit": null,
       "object_position": null,
       "order": null,
       "overflow": null,
       "overflow_x": null,
       "overflow_y": null,
       "padding": null,
       "right": null,
       "top": null,
       "visibility": null,
       "width": null
      }
     },
     "68138cc66d8747ff8baf52868ec7e8aa": {
      "model_module": "@jupyter-widgets/controls",
      "model_module_version": "1.5.0",
      "model_name": "FloatProgressModel",
      "state": {
       "_dom_classes": [],
       "_model_module": "@jupyter-widgets/controls",
       "_model_module_version": "1.5.0",
       "_model_name": "FloatProgressModel",
       "_view_count": null,
       "_view_module": "@jupyter-widgets/controls",
       "_view_module_version": "1.5.0",
       "_view_name": "ProgressView",
       "bar_style": "success",
       "description": "",
       "description_tooltip": null,
       "layout": "IPY_MODEL_7ff59fb98ddc4a098cacad8eb6ee22fe",
       "max": 1083389348,
       "min": 0,
       "orientation": "horizontal",
       "style": "IPY_MODEL_47fd4b6f94784076b8f74ab4d066a7c0",
       "value": 1083389348
      }
     },
     "6d8ae194eac14c1181924917fc3649aa": {
      "model_module": "@jupyter-widgets/controls",
      "model_module_version": "1.5.0",
      "model_name": "ProgressStyleModel",
      "state": {
       "_model_module": "@jupyter-widgets/controls",
       "_model_module_version": "1.5.0",
       "_model_name": "ProgressStyleModel",
       "_view_count": null,
       "_view_module": "@jupyter-widgets/base",
       "_view_module_version": "1.2.0",
       "_view_name": "StyleView",
       "bar_color": null,
       "description_width": ""
      }
     },
     "75b474711f3f415ea3287ad09b8d0e06": {
      "model_module": "@jupyter-widgets/controls",
      "model_module_version": "1.5.0",
      "model_name": "HTMLModel",
      "state": {
       "_dom_classes": [],
       "_model_module": "@jupyter-widgets/controls",
       "_model_module_version": "1.5.0",
       "_model_name": "HTMLModel",
       "_view_count": null,
       "_view_module": "@jupyter-widgets/controls",
       "_view_module_version": "1.5.0",
       "_view_name": "HTMLView",
       "description": "",
       "description_tooltip": null,
       "layout": "IPY_MODEL_badaaf44447c4bdda16d9e073b33188d",
       "placeholder": "​",
       "style": "IPY_MODEL_0836222113094a28a1e92dfde6a12e77",
       "value": "Downloading: 100%"
      }
     },
     "7600247fd75649bb8d59e2955c99e30c": {
      "model_module": "@jupyter-widgets/controls",
      "model_module_version": "1.5.0",
      "model_name": "DescriptionStyleModel",
      "state": {
       "_model_module": "@jupyter-widgets/controls",
       "_model_module_version": "1.5.0",
       "_model_name": "DescriptionStyleModel",
       "_view_count": null,
       "_view_module": "@jupyter-widgets/base",
       "_view_module_version": "1.2.0",
       "_view_name": "StyleView",
       "description_width": ""
      }
     },
     "76bd0740f2ba4460b844056ff00e70d0": {
      "model_module": "@jupyter-widgets/controls",
      "model_module_version": "1.5.0",
      "model_name": "HTMLModel",
      "state": {
       "_dom_classes": [],
       "_model_module": "@jupyter-widgets/controls",
       "_model_module_version": "1.5.0",
       "_model_name": "HTMLModel",
       "_view_count": null,
       "_view_module": "@jupyter-widgets/controls",
       "_view_module_version": "1.5.0",
       "_view_name": "HTMLView",
       "description": "",
       "description_tooltip": null,
       "layout": "IPY_MODEL_a4983f16889f4ec2be3e74480bce1a99",
       "placeholder": "​",
       "style": "IPY_MODEL_b534c5bb0184499db8e7fb6d6b7d835e",
       "value": " 1.96M/1.96M [00:00&lt;00:00, 13.4MB/s]"
      }
     },
     "7856c37b730c483d934916d354a2f093": {
      "model_module": "@jupyter-widgets/base",
      "model_module_version": "1.2.0",
      "model_name": "LayoutModel",
      "state": {
       "_model_module": "@jupyter-widgets/base",
       "_model_module_version": "1.2.0",
       "_model_name": "LayoutModel",
       "_view_count": null,
       "_view_module": "@jupyter-widgets/base",
       "_view_module_version": "1.2.0",
       "_view_name": "LayoutView",
       "align_content": null,
       "align_items": null,
       "align_self": null,
       "border": null,
       "bottom": null,
       "display": null,
       "flex": null,
       "flex_flow": null,
       "grid_area": null,
       "grid_auto_columns": null,
       "grid_auto_flow": null,
       "grid_auto_rows": null,
       "grid_column": null,
       "grid_gap": null,
       "grid_row": null,
       "grid_template_areas": null,
       "grid_template_columns": null,
       "grid_template_rows": null,
       "height": null,
       "justify_content": null,
       "justify_items": null,
       "left": null,
       "margin": null,
       "max_height": null,
       "max_width": null,
       "min_height": null,
       "min_width": null,
       "object_fit": null,
       "object_position": null,
       "order": null,
       "overflow": null,
       "overflow_x": null,
       "overflow_y": null,
       "padding": null,
       "right": null,
       "top": null,
       "visibility": null,
       "width": null
      }
     },
     "7ff59fb98ddc4a098cacad8eb6ee22fe": {
      "model_module": "@jupyter-widgets/base",
      "model_module_version": "1.2.0",
      "model_name": "LayoutModel",
      "state": {
       "_model_module": "@jupyter-widgets/base",
       "_model_module_version": "1.2.0",
       "_model_name": "LayoutModel",
       "_view_count": null,
       "_view_module": "@jupyter-widgets/base",
       "_view_module_version": "1.2.0",
       "_view_name": "LayoutView",
       "align_content": null,
       "align_items": null,
       "align_self": null,
       "border": null,
       "bottom": null,
       "display": null,
       "flex": null,
       "flex_flow": null,
       "grid_area": null,
       "grid_auto_columns": null,
       "grid_auto_flow": null,
       "grid_auto_rows": null,
       "grid_column": null,
       "grid_gap": null,
       "grid_row": null,
       "grid_template_areas": null,
       "grid_template_columns": null,
       "grid_template_rows": null,
       "height": null,
       "justify_content": null,
       "justify_items": null,
       "left": null,
       "margin": null,
       "max_height": null,
       "max_width": null,
       "min_height": null,
       "min_width": null,
       "object_fit": null,
       "object_position": null,
       "order": null,
       "overflow": null,
       "overflow_x": null,
       "overflow_y": null,
       "padding": null,
       "right": null,
       "top": null,
       "visibility": null,
       "width": null
      }
     },
     "801685f2cb6f46b4a76eb9e5b72cce45": {
      "model_module": "@jupyter-widgets/base",
      "model_module_version": "1.2.0",
      "model_name": "LayoutModel",
      "state": {
       "_model_module": "@jupyter-widgets/base",
       "_model_module_version": "1.2.0",
       "_model_name": "LayoutModel",
       "_view_count": null,
       "_view_module": "@jupyter-widgets/base",
       "_view_module_version": "1.2.0",
       "_view_name": "LayoutView",
       "align_content": null,
       "align_items": null,
       "align_self": null,
       "border": null,
       "bottom": null,
       "display": null,
       "flex": null,
       "flex_flow": null,
       "grid_area": null,
       "grid_auto_columns": null,
       "grid_auto_flow": null,
       "grid_auto_rows": null,
       "grid_column": null,
       "grid_gap": null,
       "grid_row": null,
       "grid_template_areas": null,
       "grid_template_columns": null,
       "grid_template_rows": null,
       "height": null,
       "justify_content": null,
       "justify_items": null,
       "left": null,
       "margin": null,
       "max_height": null,
       "max_width": null,
       "min_height": null,
       "min_width": null,
       "object_fit": null,
       "object_position": null,
       "order": null,
       "overflow": null,
       "overflow_x": null,
       "overflow_y": null,
       "padding": null,
       "right": null,
       "top": null,
       "visibility": null,
       "width": null
      }
     },
     "8aad81dcbb1a48c3a4ad8b4ebcc6eef7": {
      "model_module": "@jupyter-widgets/base",
      "model_module_version": "1.2.0",
      "model_name": "LayoutModel",
      "state": {
       "_model_module": "@jupyter-widgets/base",
       "_model_module_version": "1.2.0",
       "_model_name": "LayoutModel",
       "_view_count": null,
       "_view_module": "@jupyter-widgets/base",
       "_view_module_version": "1.2.0",
       "_view_name": "LayoutView",
       "align_content": null,
       "align_items": null,
       "align_self": null,
       "border": null,
       "bottom": null,
       "display": null,
       "flex": null,
       "flex_flow": null,
       "grid_area": null,
       "grid_auto_columns": null,
       "grid_auto_flow": null,
       "grid_auto_rows": null,
       "grid_column": null,
       "grid_gap": null,
       "grid_row": null,
       "grid_template_areas": null,
       "grid_template_columns": null,
       "grid_template_rows": null,
       "height": null,
       "justify_content": null,
       "justify_items": null,
       "left": null,
       "margin": null,
       "max_height": null,
       "max_width": null,
       "min_height": null,
       "min_width": null,
       "object_fit": null,
       "object_position": null,
       "order": null,
       "overflow": null,
       "overflow_x": null,
       "overflow_y": null,
       "padding": null,
       "right": null,
       "top": null,
       "visibility": null,
       "width": null
      }
     },
     "8edc531118734774af743d187d3cf3e4": {
      "model_module": "@jupyter-widgets/controls",
      "model_module_version": "1.5.0",
      "model_name": "ProgressStyleModel",
      "state": {
       "_model_module": "@jupyter-widgets/controls",
       "_model_module_version": "1.5.0",
       "_model_name": "ProgressStyleModel",
       "_view_count": null,
       "_view_module": "@jupyter-widgets/base",
       "_view_module_version": "1.2.0",
       "_view_name": "StyleView",
       "bar_color": null,
       "description_width": ""
      }
     },
     "9007a3e0a22f40768a5815bcca1e32d0": {
      "model_module": "@jupyter-widgets/base",
      "model_module_version": "1.2.0",
      "model_name": "LayoutModel",
      "state": {
       "_model_module": "@jupyter-widgets/base",
       "_model_module_version": "1.2.0",
       "_model_name": "LayoutModel",
       "_view_count": null,
       "_view_module": "@jupyter-widgets/base",
       "_view_module_version": "1.2.0",
       "_view_name": "LayoutView",
       "align_content": null,
       "align_items": null,
       "align_self": null,
       "border": null,
       "bottom": null,
       "display": null,
       "flex": null,
       "flex_flow": null,
       "grid_area": null,
       "grid_auto_columns": null,
       "grid_auto_flow": null,
       "grid_auto_rows": null,
       "grid_column": null,
       "grid_gap": null,
       "grid_row": null,
       "grid_template_areas": null,
       "grid_template_columns": null,
       "grid_template_rows": null,
       "height": null,
       "justify_content": null,
       "justify_items": null,
       "left": null,
       "margin": null,
       "max_height": null,
       "max_width": null,
       "min_height": null,
       "min_width": null,
       "object_fit": null,
       "object_position": null,
       "order": null,
       "overflow": null,
       "overflow_x": null,
       "overflow_y": null,
       "padding": null,
       "right": null,
       "top": null,
       "visibility": null,
       "width": null
      }
     },
     "93de954ff3c4481889be2372d6497c09": {
      "model_module": "@jupyter-widgets/controls",
      "model_module_version": "1.5.0",
      "model_name": "FloatProgressModel",
      "state": {
       "_dom_classes": [],
       "_model_module": "@jupyter-widgets/controls",
       "_model_module_version": "1.5.0",
       "_model_name": "FloatProgressModel",
       "_view_count": null,
       "_view_module": "@jupyter-widgets/controls",
       "_view_module_version": "1.5.0",
       "_view_name": "ProgressView",
       "bar_style": "success",
       "description": "",
       "description_tooltip": null,
       "layout": "IPY_MODEL_04a2a4efc95e40ef90bd9bc088dea309",
       "max": 1961828,
       "min": 0,
       "orientation": "horizontal",
       "style": "IPY_MODEL_8edc531118734774af743d187d3cf3e4",
       "value": 1961828
      }
     },
     "a1e61e643f904914b8beb0e3e00cdcee": {
      "model_module": "@jupyter-widgets/controls",
      "model_module_version": "1.5.0",
      "model_name": "ProgressStyleModel",
      "state": {
       "_model_module": "@jupyter-widgets/controls",
       "_model_module_version": "1.5.0",
       "_model_name": "ProgressStyleModel",
       "_view_count": null,
       "_view_module": "@jupyter-widgets/base",
       "_view_module_version": "1.2.0",
       "_view_name": "StyleView",
       "bar_color": null,
       "description_width": ""
      }
     },
     "a4983f16889f4ec2be3e74480bce1a99": {
      "model_module": "@jupyter-widgets/base",
      "model_module_version": "1.2.0",
      "model_name": "LayoutModel",
      "state": {
       "_model_module": "@jupyter-widgets/base",
       "_model_module_version": "1.2.0",
       "_model_name": "LayoutModel",
       "_view_count": null,
       "_view_module": "@jupyter-widgets/base",
       "_view_module_version": "1.2.0",
       "_view_name": "LayoutView",
       "align_content": null,
       "align_items": null,
       "align_self": null,
       "border": null,
       "bottom": null,
       "display": null,
       "flex": null,
       "flex_flow": null,
       "grid_area": null,
       "grid_auto_columns": null,
       "grid_auto_flow": null,
       "grid_auto_rows": null,
       "grid_column": null,
       "grid_gap": null,
       "grid_row": null,
       "grid_template_areas": null,
       "grid_template_columns": null,
       "grid_template_rows": null,
       "height": null,
       "justify_content": null,
       "justify_items": null,
       "left": null,
       "margin": null,
       "max_height": null,
       "max_width": null,
       "min_height": null,
       "min_width": null,
       "object_fit": null,
       "object_position": null,
       "order": null,
       "overflow": null,
       "overflow_x": null,
       "overflow_y": null,
       "padding": null,
       "right": null,
       "top": null,
       "visibility": null,
       "width": null
      }
     },
     "b25fd79af4f24c14802abfec3b3c5946": {
      "model_module": "@jupyter-widgets/controls",
      "model_module_version": "1.5.0",
      "model_name": "HBoxModel",
      "state": {
       "_dom_classes": [],
       "_model_module": "@jupyter-widgets/controls",
       "_model_module_version": "1.5.0",
       "_model_name": "HBoxModel",
       "_view_count": null,
       "_view_module": "@jupyter-widgets/controls",
       "_view_module_version": "1.5.0",
       "_view_name": "HBoxView",
       "box_style": "",
       "children": [
        "IPY_MODEL_75b474711f3f415ea3287ad09b8d0e06",
        "IPY_MODEL_e1a1b7915d714b00af48066cfd0abef5",
        "IPY_MODEL_ee94dcbe703e449b97da0b4c7b22cb15"
       ],
       "layout": "IPY_MODEL_320f342b0385479d8a1922cc729731ab"
      }
     },
     "b534c5bb0184499db8e7fb6d6b7d835e": {
      "model_module": "@jupyter-widgets/controls",
      "model_module_version": "1.5.0",
      "model_name": "DescriptionStyleModel",
      "state": {
       "_model_module": "@jupyter-widgets/controls",
       "_model_module_version": "1.5.0",
       "_model_name": "DescriptionStyleModel",
       "_view_count": null,
       "_view_module": "@jupyter-widgets/base",
       "_view_module_version": "1.2.0",
       "_view_name": "StyleView",
       "description_width": ""
      }
     },
     "badaaf44447c4bdda16d9e073b33188d": {
      "model_module": "@jupyter-widgets/base",
      "model_module_version": "1.2.0",
      "model_name": "LayoutModel",
      "state": {
       "_model_module": "@jupyter-widgets/base",
       "_model_module_version": "1.2.0",
       "_model_name": "LayoutModel",
       "_view_count": null,
       "_view_module": "@jupyter-widgets/base",
       "_view_module_version": "1.2.0",
       "_view_name": "LayoutView",
       "align_content": null,
       "align_items": null,
       "align_self": null,
       "border": null,
       "bottom": null,
       "display": null,
       "flex": null,
       "flex_flow": null,
       "grid_area": null,
       "grid_auto_columns": null,
       "grid_auto_flow": null,
       "grid_auto_rows": null,
       "grid_column": null,
       "grid_gap": null,
       "grid_row": null,
       "grid_template_areas": null,
       "grid_template_columns": null,
       "grid_template_rows": null,
       "height": null,
       "justify_content": null,
       "justify_items": null,
       "left": null,
       "margin": null,
       "max_height": null,
       "max_width": null,
       "min_height": null,
       "min_width": null,
       "object_fit": null,
       "object_position": null,
       "order": null,
       "overflow": null,
       "overflow_x": null,
       "overflow_y": null,
       "padding": null,
       "right": null,
       "top": null,
       "visibility": null,
       "width": null
      }
     },
     "bd0f4e5f7ddd44779bc0dc0e26906c37": {
      "model_module": "@jupyter-widgets/base",
      "model_module_version": "1.2.0",
      "model_name": "LayoutModel",
      "state": {
       "_model_module": "@jupyter-widgets/base",
       "_model_module_version": "1.2.0",
       "_model_name": "LayoutModel",
       "_view_count": null,
       "_view_module": "@jupyter-widgets/base",
       "_view_module_version": "1.2.0",
       "_view_name": "LayoutView",
       "align_content": null,
       "align_items": null,
       "align_self": null,
       "border": null,
       "bottom": null,
       "display": null,
       "flex": null,
       "flex_flow": null,
       "grid_area": null,
       "grid_auto_columns": null,
       "grid_auto_flow": null,
       "grid_auto_rows": null,
       "grid_column": null,
       "grid_gap": null,
       "grid_row": null,
       "grid_template_areas": null,
       "grid_template_columns": null,
       "grid_template_rows": null,
       "height": null,
       "justify_content": null,
       "justify_items": null,
       "left": null,
       "margin": null,
       "max_height": null,
       "max_width": null,
       "min_height": null,
       "min_width": null,
       "object_fit": null,
       "object_position": null,
       "order": null,
       "overflow": null,
       "overflow_x": null,
       "overflow_y": null,
       "padding": null,
       "right": null,
       "top": null,
       "visibility": null,
       "width": null
      }
     },
     "c0c26cfc30cd4bb69ff147980209facd": {
      "model_module": "@jupyter-widgets/controls",
      "model_module_version": "1.5.0",
      "model_name": "HTMLModel",
      "state": {
       "_dom_classes": [],
       "_model_module": "@jupyter-widgets/controls",
       "_model_module_version": "1.5.0",
       "_model_name": "HTMLModel",
       "_view_count": null,
       "_view_module": "@jupyter-widgets/controls",
       "_view_module_version": "1.5.0",
       "_view_name": "HTMLView",
       "description": "",
       "description_tooltip": null,
       "layout": "IPY_MODEL_cd090a6c357a4b699c625f44e32dc9f0",
       "placeholder": "​",
       "style": "IPY_MODEL_44e592a516734950ba934772ff0ff8f9",
       "value": " 29.0/29.0 [00:00&lt;00:00, 763B/s]"
      }
     },
     "c461ee85246540419ab29c7835ce4f26": {
      "model_module": "@jupyter-widgets/controls",
      "model_module_version": "1.5.0",
      "model_name": "DescriptionStyleModel",
      "state": {
       "_model_module": "@jupyter-widgets/controls",
       "_model_module_version": "1.5.0",
       "_model_name": "DescriptionStyleModel",
       "_view_count": null,
       "_view_module": "@jupyter-widgets/base",
       "_view_module_version": "1.2.0",
       "_view_name": "StyleView",
       "description_width": ""
      }
     },
     "cd090a6c357a4b699c625f44e32dc9f0": {
      "model_module": "@jupyter-widgets/base",
      "model_module_version": "1.2.0",
      "model_name": "LayoutModel",
      "state": {
       "_model_module": "@jupyter-widgets/base",
       "_model_module_version": "1.2.0",
       "_model_name": "LayoutModel",
       "_view_count": null,
       "_view_module": "@jupyter-widgets/base",
       "_view_module_version": "1.2.0",
       "_view_name": "LayoutView",
       "align_content": null,
       "align_items": null,
       "align_self": null,
       "border": null,
       "bottom": null,
       "display": null,
       "flex": null,
       "flex_flow": null,
       "grid_area": null,
       "grid_auto_columns": null,
       "grid_auto_flow": null,
       "grid_auto_rows": null,
       "grid_column": null,
       "grid_gap": null,
       "grid_row": null,
       "grid_template_areas": null,
       "grid_template_columns": null,
       "grid_template_rows": null,
       "height": null,
       "justify_content": null,
       "justify_items": null,
       "left": null,
       "margin": null,
       "max_height": null,
       "max_width": null,
       "min_height": null,
       "min_width": null,
       "object_fit": null,
       "object_position": null,
       "order": null,
       "overflow": null,
       "overflow_x": null,
       "overflow_y": null,
       "padding": null,
       "right": null,
       "top": null,
       "visibility": null,
       "width": null
      }
     },
     "d138db85222546528cf61493c56a70dc": {
      "model_module": "@jupyter-widgets/controls",
      "model_module_version": "1.5.0",
      "model_name": "HTMLModel",
      "state": {
       "_dom_classes": [],
       "_model_module": "@jupyter-widgets/controls",
       "_model_module_version": "1.5.0",
       "_model_name": "HTMLModel",
       "_view_count": null,
       "_view_module": "@jupyter-widgets/controls",
       "_view_module_version": "1.5.0",
       "_view_name": "HTMLView",
       "description": "",
       "description_tooltip": null,
       "layout": "IPY_MODEL_2752a69a3e444ad5be367926643294f7",
       "placeholder": "​",
       "style": "IPY_MODEL_389bed9aaa7a4368a5dd48cd0696c9ac",
       "value": "Downloading: 100%"
      }
     },
     "da2362b93a434ea2b26fa7660561665d": {
      "model_module": "@jupyter-widgets/controls",
      "model_module_version": "1.5.0",
      "model_name": "FloatProgressModel",
      "state": {
       "_dom_classes": [],
       "_model_module": "@jupyter-widgets/controls",
       "_model_module_version": "1.5.0",
       "_model_name": "FloatProgressModel",
       "_view_count": null,
       "_view_module": "@jupyter-widgets/controls",
       "_view_module_version": "1.5.0",
       "_view_name": "ProgressView",
       "bar_style": "success",
       "description": "",
       "description_tooltip": null,
       "layout": "IPY_MODEL_bd0f4e5f7ddd44779bc0dc0e26906c37",
       "max": 625,
       "min": 0,
       "orientation": "horizontal",
       "style": "IPY_MODEL_a1e61e643f904914b8beb0e3e00cdcee",
       "value": 625
      }
     },
     "e1a1b7915d714b00af48066cfd0abef5": {
      "model_module": "@jupyter-widgets/controls",
      "model_module_version": "1.5.0",
      "model_name": "FloatProgressModel",
      "state": {
       "_dom_classes": [],
       "_model_module": "@jupyter-widgets/controls",
       "_model_module_version": "1.5.0",
       "_model_name": "FloatProgressModel",
       "_view_count": null,
       "_view_module": "@jupyter-widgets/controls",
       "_view_module_version": "1.5.0",
       "_view_name": "ProgressView",
       "bar_style": "success",
       "description": "",
       "description_tooltip": null,
       "layout": "IPY_MODEL_2a1ec76a74454862a4059cc9a833562d",
       "max": 995526,
       "min": 0,
       "orientation": "horizontal",
       "style": "IPY_MODEL_ec52c8a62cd84ccb9b9dc17c3ce3553c",
       "value": 995526
      }
     },
     "e60a51a99fa74c9aa1ad22d0027f8059": {
      "model_module": "@jupyter-widgets/controls",
      "model_module_version": "1.5.0",
      "model_name": "DescriptionStyleModel",
      "state": {
       "_model_module": "@jupyter-widgets/controls",
       "_model_module_version": "1.5.0",
       "_model_name": "DescriptionStyleModel",
       "_view_count": null,
       "_view_module": "@jupyter-widgets/base",
       "_view_module_version": "1.2.0",
       "_view_name": "StyleView",
       "description_width": ""
      }
     },
     "e7054f2135b84d6d9c415f7ac684fac5": {
      "model_module": "@jupyter-widgets/controls",
      "model_module_version": "1.5.0",
      "model_name": "HBoxModel",
      "state": {
       "_dom_classes": [],
       "_model_module": "@jupyter-widgets/controls",
       "_model_module_version": "1.5.0",
       "_model_name": "HBoxModel",
       "_view_count": null,
       "_view_module": "@jupyter-widgets/controls",
       "_view_module_version": "1.5.0",
       "_view_name": "HBoxView",
       "box_style": "",
       "children": [
        "IPY_MODEL_d138db85222546528cf61493c56a70dc",
        "IPY_MODEL_02c470e24c9d45dfa152fb866d98972d",
        "IPY_MODEL_c0c26cfc30cd4bb69ff147980209facd"
       ],
       "layout": "IPY_MODEL_fb98db636df549b99b6005157e3b8457"
      }
     },
     "ec52c8a62cd84ccb9b9dc17c3ce3553c": {
      "model_module": "@jupyter-widgets/controls",
      "model_module_version": "1.5.0",
      "model_name": "ProgressStyleModel",
      "state": {
       "_model_module": "@jupyter-widgets/controls",
       "_model_module_version": "1.5.0",
       "_model_name": "ProgressStyleModel",
       "_view_count": null,
       "_view_module": "@jupyter-widgets/base",
       "_view_module_version": "1.2.0",
       "_view_name": "StyleView",
       "bar_color": null,
       "description_width": ""
      }
     },
     "ee94dcbe703e449b97da0b4c7b22cb15": {
      "model_module": "@jupyter-widgets/controls",
      "model_module_version": "1.5.0",
      "model_name": "HTMLModel",
      "state": {
       "_dom_classes": [],
       "_model_module": "@jupyter-widgets/controls",
       "_model_module_version": "1.5.0",
       "_model_name": "HTMLModel",
       "_view_count": null,
       "_view_module": "@jupyter-widgets/controls",
       "_view_module_version": "1.5.0",
       "_view_name": "HTMLView",
       "description": "",
       "description_tooltip": null,
       "layout": "IPY_MODEL_4dd87ae9b4464e40b9770bc771dac585",
       "placeholder": "​",
       "style": "IPY_MODEL_7600247fd75649bb8d59e2955c99e30c",
       "value": " 996k/996k [00:00&lt;00:00, 10.7MB/s]"
      }
     },
     "eef2c94f24cd4b7e9ac6e0df8fab87d3": {
      "model_module": "@jupyter-widgets/base",
      "model_module_version": "1.2.0",
      "model_name": "LayoutModel",
      "state": {
       "_model_module": "@jupyter-widgets/base",
       "_model_module_version": "1.2.0",
       "_model_name": "LayoutModel",
       "_view_count": null,
       "_view_module": "@jupyter-widgets/base",
       "_view_module_version": "1.2.0",
       "_view_name": "LayoutView",
       "align_content": null,
       "align_items": null,
       "align_self": null,
       "border": null,
       "bottom": null,
       "display": null,
       "flex": null,
       "flex_flow": null,
       "grid_area": null,
       "grid_auto_columns": null,
       "grid_auto_flow": null,
       "grid_auto_rows": null,
       "grid_column": null,
       "grid_gap": null,
       "grid_row": null,
       "grid_template_areas": null,
       "grid_template_columns": null,
       "grid_template_rows": null,
       "height": null,
       "justify_content": null,
       "justify_items": null,
       "left": null,
       "margin": null,
       "max_height": null,
       "max_width": null,
       "min_height": null,
       "min_width": null,
       "object_fit": null,
       "object_position": null,
       "order": null,
       "overflow": null,
       "overflow_x": null,
       "overflow_y": null,
       "padding": null,
       "right": null,
       "top": null,
       "visibility": null,
       "width": null
      }
     },
     "f731912fe5e84047ab6a49fef870b56d": {
      "model_module": "@jupyter-widgets/controls",
      "model_module_version": "1.5.0",
      "model_name": "DescriptionStyleModel",
      "state": {
       "_model_module": "@jupyter-widgets/controls",
       "_model_module_version": "1.5.0",
       "_model_name": "DescriptionStyleModel",
       "_view_count": null,
       "_view_module": "@jupyter-widgets/base",
       "_view_module_version": "1.2.0",
       "_view_name": "StyleView",
       "description_width": ""
      }
     },
     "fb98db636df549b99b6005157e3b8457": {
      "model_module": "@jupyter-widgets/base",
      "model_module_version": "1.2.0",
      "model_name": "LayoutModel",
      "state": {
       "_model_module": "@jupyter-widgets/base",
       "_model_module_version": "1.2.0",
       "_model_name": "LayoutModel",
       "_view_count": null,
       "_view_module": "@jupyter-widgets/base",
       "_view_module_version": "1.2.0",
       "_view_name": "LayoutView",
       "align_content": null,
       "align_items": null,
       "align_self": null,
       "border": null,
       "bottom": null,
       "display": null,
       "flex": null,
       "flex_flow": null,
       "grid_area": null,
       "grid_auto_columns": null,
       "grid_auto_flow": null,
       "grid_auto_rows": null,
       "grid_column": null,
       "grid_gap": null,
       "grid_row": null,
       "grid_template_areas": null,
       "grid_template_columns": null,
       "grid_template_rows": null,
       "height": null,
       "justify_content": null,
       "justify_items": null,
       "left": null,
       "margin": null,
       "max_height": null,
       "max_width": null,
       "min_height": null,
       "min_width": null,
       "object_fit": null,
       "object_position": null,
       "order": null,
       "overflow": null,
       "overflow_x": null,
       "overflow_y": null,
       "padding": null,
       "right": null,
       "top": null,
       "visibility": null,
       "width": null
      }
     }
    },
    "version_major": 2,
    "version_minor": 0
   }
  }
 },
 "nbformat": 4,
 "nbformat_minor": 5
}
