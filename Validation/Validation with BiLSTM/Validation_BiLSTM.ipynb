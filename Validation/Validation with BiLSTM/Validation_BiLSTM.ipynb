{
 "cells": [
  {
   "cell_type": "markdown",
   "metadata": {},
   "source": [
    "## Modelo Deep learning NER con bilstm y crf - bioEmb_300_skyp\n",
    "\n",
    "### Definicion de Parametro e Hiperparametros del Modelo"
   ]
  },
  {
   "cell_type": "code",
   "execution_count": null,
   "metadata": {},
   "outputs": [],
   "source": [
    "import sys\n",
    "sys.path.append('./libs')\n",
    "\n",
    "import tensorflow as tf\n",
    "import matplotlib.pyplot as plt\n",
    "import numpy as np\n",
    "import pickle\n",
    "import pandas as pd\n",
    "from itertools import islice\n",
    "\n",
    "from tabulate import tabulate\n",
    "from sklearn.metrics import confusion_matrix\n",
    "from sklearn.metrics import classification_report as eskclarep\n",
    "from seqeval.metrics import precision_score, recall_score, f1_score, accuracy_score\n",
    "from seqeval.metrics import classification_report as seqclarep\n",
    "from sklearn.preprocessing import LabelBinarizer\n",
    "from itertools import chain\n",
    "\n",
    "from tensorflow import keras\n",
    "from tensorflow.keras.preprocessing.sequence import pad_sequences\n",
    "from tensorflow.keras.utils import to_categorical\n",
    "from tensorflow.keras.models import Model, Sequential\n",
    "from tensorflow.keras.layers import Concatenate, Lambda, Input, LSTM, Embedding, Dense, TimeDistributed, Dropout, Bidirectional, InputLayer, Activation, Flatten, Masking\n",
    "from tensorflow.keras.optimizers import Adam, schedules\n",
    "\n",
    "from tf2crf import CRF as crf6\n",
    "from mwrapper import ModelWithCRFLoss, ModelWithCRFLossDSCLoss\n",
    "from utils import build_matrix_embeddings as bme, plot_model_performance, logits_to_tokens, report_to_df\n",
    "\n",
    "from tensorflow.keras.callbacks import ModelCheckpoint\n",
    "from tensorflow.keras.callbacks import TensorBoard\n",
    "\n",
    "from IPython.core.display import display, HTML\n",
    "\n",
    "import datetime, os\n",
    "import random\n",
    "\n",
    "SEED = 42\n",
    "os.environ['PYTHONHASHSEED']=str(SEED)\n",
    "os.environ['TF_CUDNN_DETERMINISTIC'] = '1'  # TF 2.1+\n",
    "random.seed(SEED)\n",
    "np.random.seed(SEED)\n",
    "tf.random.set_seed(SEED)\n",
    "\n",
    "MODEL         = 'base_model_bioEmb_300_skyp'\n",
    "logs_base_dir = \"./logs\"\n",
    "log_dir       = logs_base_dir + \"/\" + MODEL\n",
    "save_base_dir = './model-save'\n",
    "save_dir      = save_base_dir + \"/\" + MODEL\n",
    "\n",
    "os.makedirs(logs_base_dir, exist_ok=True)\n",
    "os.makedirs(log_dir,       exist_ok=True)\n",
    "os.makedirs(save_base_dir, exist_ok=True)\n",
    "os.makedirs(save_dir,      exist_ok=True)\n",
    "\n",
    "%load_ext tensorboard\n",
    "\n",
    "# ****** DEFINICION DE PARAMETROS *********\n",
    "NUM_WORDS       = 25331 + 2\n",
    "LEN_SENTS       = 190\n",
    "NUM_TAGS        = 9 + 2\n",
    "\n",
    "# ****** DEFINICION DE HIPERPARAMETROS *********\n",
    "_EPOCHS         = 75\n",
    "EMBED_DIM       = 300\n",
    "_DROPOUT        = 0.5\n",
    "_BACH_SIZE      = 512 + 256\n",
    "_LEARN_RATE     = 1e-2\n",
    "\n",
    "\n",
    "gpus = tf.config.experimental.list_physical_devices('GPU')\n",
    "if gpus:\n",
    "    try:\n",
    "        # Currently, memory growth needs to be the same across GPUs\n",
    "        for gpu in gpus:\n",
    "            tf.config.experimental.set_memory_growth(gpu, True)\n",
    "            \n",
    "        logical_gpus = tf.config.experimental.list_logical_devices('GPU')\n",
    "        print(len(gpus), \"Physical GPUs,\", len(logical_gpus), \"Logical GPUs\")\n",
    "    except RuntimeError as e:\n",
    "        # Memory growth must be set before GPUs have been initialized\n",
    "        print(e)"
   ]
  },
  {
   "cell_type": "code",
   "execution_count": null,
   "metadata": {},
   "outputs": [],
   "source": [
    "#Cargar CSV\n",
    "import pandas as pd\n",
    "from sklearn import preprocessing\n",
    "\n",
    "def process_csv(data_path):    \n",
    "    df = pd.read_csv(data_path, encoding=\"utf-8\")\n",
    "    df.loc[:, \"Sentence #\"] = df[\"Sentence #\"].fillna(method=\"ffill\")\n",
    "    sentences_l = df.groupby(\"Sentence #\")[\"Word\"].apply(list).values\n",
    "    sentences = sentences_l.tolist()\n",
    "    tag_l = df.groupby(\"Sentence #\")[\"Tag\"].apply(list).values\n",
    "    tag = tag_l.tolist()\n",
    "    return sentences, tag"
   ]
  },
  {
   "cell_type": "markdown",
   "metadata": {},
   "source": [
    "## Se cargan los datos de Entrenamiento"
   ]
  },
  {
   "cell_type": "code",
   "execution_count": null,
   "metadata": {},
   "outputs": [],
   "source": [
    "## ********** Oraciones ********** ##\n",
    "word2idx = np.load('vectors/word2index.npy', allow_pickle=True).item()\n",
    "tag2idx  = np.load('vectors/tag2index.npy', allow_pickle=True).item()\n",
    "idx2tag  = np.load('vectors/index2tag.npy', allow_pickle=True).item()"
   ]
  },
  {
   "cell_type": "code",
   "execution_count": null,
   "metadata": {},
   "outputs": [],
   "source": [
    "test_data_csv = \"sentences_test_bio.csv\"\n",
    "#test_data_csv  = \"sentences_test.csv\"\n",
    "#test_data_csv = \"sentences_test_700.csv\"\n",
    "X_oraciones, y_tags = process_csv(test_data_csv)"
   ]
  },
  {
   "cell_type": "code",
   "execution_count": null,
   "metadata": {},
   "outputs": [],
   "source": [
    "print(tag2idx)\n",
    "print(X_oraciones[0])\n",
    "print(y_tags[0])"
   ]
  },
  {
   "cell_type": "code",
   "execution_count": null,
   "metadata": {},
   "outputs": [],
   "source": [
    "X_test_unleng = []\n",
    "for s1 in X_oraciones:\n",
    "    s1_int = []\n",
    "    for w in s1:\n",
    "        try:\n",
    "            s1_int.append(word2idx[w.lower()])\n",
    "        except KeyError:\n",
    "            s1_int.append(word2idx['-OOV-'])\n",
    "    X_test_unleng.append(s1_int)\n",
    "\n",
    "X_test = pad_sequences(X_test_unleng, maxlen=LEN_SENTS, padding='post')"
   ]
  },
  {
   "cell_type": "code",
   "execution_count": null,
   "metadata": {},
   "outputs": [],
   "source": [
    "y_test = [[tag2idx[w] for w in s] for s in y_tags]\n",
    "y_test = pad_sequences(maxlen=LEN_SENTS, sequences=y_test, padding=\"post\", value=tag2idx[\"-PAD-\"])\n",
    "y_true = logits_to_tokens(y_test, idx2tag)"
   ]
  },
  {
   "cell_type": "code",
   "execution_count": null,
   "metadata": {},
   "outputs": [],
   "source": [
    "#print(X_test[0])\n",
    "#print(y_test[0])\n",
    "#print(y_true[0])"
   ]
  },
  {
   "cell_type": "markdown",
   "metadata": {},
   "source": [
    "## Definición del Modelo"
   ]
  },
  {
   "cell_type": "code",
   "execution_count": null,
   "metadata": {},
   "outputs": [],
   "source": [
    "#Loading the model\n",
    "print(\"\\nLoading the model for negation and speculation detection ...\")\n",
    "new_model = tf.saved_model.load(save_dir + \"/\")\n",
    "print (\"\\nModel loaded ...\")"
   ]
  },
  {
   "cell_type": "code",
   "execution_count": null,
   "metadata": {},
   "outputs": [],
   "source": [
    "#print(idx2tag[6])\n",
    "\n",
    "prediction = new_model(X_test).numpy()"
   ]
  },
  {
   "cell_type": "code",
   "execution_count": null,
   "metadata": {},
   "outputs": [],
   "source": [
    "y_pred = logits_to_tokens(prediction, idx2tag)\n",
    "print(len(y_pred))\n",
    "print(len(y_true))"
   ]
  },
  {
   "cell_type": "markdown",
   "metadata": {},
   "source": [
    "### Hallamos los valores de F1 score, recall, precision"
   ]
  },
  {
   "cell_type": "code",
   "execution_count": null,
   "metadata": {},
   "outputs": [],
   "source": [
    "li1 = sum(y_true, [])\n",
    "li2 = sum(y_pred, [])\n",
    "\n",
    "results = pd.DataFrame(columns=['Expected', 'Predicted'])\n",
    "\n",
    "results['Expected'] = li1\n",
    "results['Predicted'] = li2"
   ]
  },
  {
   "cell_type": "code",
   "execution_count": null,
   "metadata": {
    "scrolled": true
   },
   "outputs": [],
   "source": [
    "#hh1 = seqclarep(results['Expected'], results['Predicted'])\n",
    "#print('\\nclassification_report:\\n', hh1)\n",
    "\n",
    "\n",
    "print(\"precision: {:.1%}\".format(precision_score(y_true, y_pred)))\n",
    "print(\"   recall: {:.1%}\".format(recall_score(y_true,    y_pred)))\n",
    "print(\" accuracy: {:.1%}\".format(accuracy_score(y_true,  y_pred)))\n",
    "print(\" F1-score: {:.1%}\".format(f1_score(y_true,        y_pred)))"
   ]
  },
  {
   "cell_type": "markdown",
   "metadata": {},
   "source": [
    "### Hallamos el calculo de cada una de las etiquetas por separado"
   ]
  },
  {
   "cell_type": "code",
   "execution_count": null,
   "metadata": {},
   "outputs": [],
   "source": [
    "report = eskclarep(results['Expected'], results['Predicted'])\n",
    "print(report_to_df(report))"
   ]
  },
  {
   "cell_type": "code",
   "execution_count": null,
   "metadata": {},
   "outputs": [],
   "source": [
    "import pandas as pd\n",
    "import seaborn as sn\n",
    "import matplotlib.pyplot as plt\n",
    "\n",
    "data = {'y_Actual':    results['Expected'],\n",
    "        'y_Predicted': results['Predicted']\n",
    "        }\n",
    "\n",
    "df = pd.DataFrame(data, columns=['y_Actual','y_Predicted'])\n",
    "confusion_matrix = pd.crosstab(df['y_Actual'], df['y_Predicted'], rownames=['Actual'], colnames=['Predicted'], margins = True)\n",
    "\n",
    "sn.heatmap(confusion_matrix, annot=True)\n",
    "\n",
    "plt.rcParams[\"figure.figsize\"] = (20,10)\n",
    "plt.show()"
   ]
  },
  {
   "cell_type": "code",
   "execution_count": null,
   "metadata": {},
   "outputs": [],
   "source": []
  }
 ],
 "metadata": {
  "kernelspec": {
   "display_name": "Python 3",
   "language": "python",
   "name": "python3"
  },
  "language_info": {
   "codemirror_mode": {
    "name": "ipython",
    "version": 3
   },
   "file_extension": ".py",
   "mimetype": "text/x-python",
   "name": "python",
   "nbconvert_exporter": "python",
   "pygments_lexer": "ipython3",
   "version": "3.8.5"
  }
 },
 "nbformat": 4,
 "nbformat_minor": 4
}
