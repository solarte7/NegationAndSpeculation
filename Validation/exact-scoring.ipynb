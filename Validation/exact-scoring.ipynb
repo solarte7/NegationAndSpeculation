{
 "cells": [
  {
   "cell_type": "code",
   "execution_count": null,
   "metadata": {
    "execution": {
     "iopub.execute_input": "2022-01-06T02:34:55.840700Z",
     "iopub.status.busy": "2022-01-06T02:34:55.840053Z",
     "iopub.status.idle": "2022-01-06T02:34:55.871659Z",
     "shell.execute_reply": "2022-01-06T02:34:55.870687Z",
     "shell.execute_reply.started": "2022-01-06T02:34:55.840636Z"
    },
    "jupyter": {
     "outputs_hidden": false
    }
   },
   "outputs": [],
   "source": [
    "import sys\n",
    "sys.path.append('../input/nubes-score')\n",
    "\n",
    "from copy import deepcopy\n",
    "from collections import defaultdict\n",
    "\n",
    "eval_model = 1\n",
    "\n",
    "if eval_model == 1:\n",
    "    from ner_eval import collect_named_entities\n",
    "    from ner_eval import compute_metrics\n",
    "    from ner_eval import compute_precision_recall_wrapper\n",
    "    from ner_eval import Evaluator\n",
    "elif eval_model == 2:\n",
    "    from ner_eval2 import collect_named_entities\n",
    "    from ner_eval2 import compute_metrics\n",
    "    from ner_eval2 import compute_precision_recall_wrapper\n",
    "    from ner_eval2 import Evaluator\n",
    "    \n",
    "import numpy as np"
   ]
  },
  {
   "cell_type": "code",
   "execution_count": null,
   "metadata": {
    "execution": {
     "iopub.execute_input": "2022-01-06T02:34:55.875867Z",
     "iopub.status.busy": "2022-01-06T02:34:55.875661Z",
     "iopub.status.idle": "2022-01-06T02:34:57.038418Z",
     "shell.execute_reply": "2022-01-06T02:34:57.037497Z",
     "shell.execute_reply.started": "2022-01-06T02:34:55.875841Z"
    },
    "jupyter": {
     "outputs_hidden": false
    }
   },
   "outputs": [],
   "source": [
    "a2 = np.load('../input/nubes-score/arr.npy')\n",
    "\n",
    "categories = ['NEG', 'NSCO', 'UNC', 'USCO']#,  '[CLS]', '[SEP]', '[PAD]']"
   ]
  },
  {
   "cell_type": "code",
   "execution_count": null,
   "metadata": {
    "execution": {
     "iopub.execute_input": "2022-01-06T02:34:57.040397Z",
     "iopub.status.busy": "2022-01-06T02:34:57.039685Z",
     "iopub.status.idle": "2022-01-06T02:34:57.045207Z",
     "shell.execute_reply": "2022-01-06T02:34:57.044309Z",
     "shell.execute_reply.started": "2022-01-06T02:34:57.040352Z"
    }
   },
   "outputs": [],
   "source": [
    "sentences = a2[0][0]\n",
    "y_true    = a2[0][1]\n",
    "y_pred    = a2[0][2]"
   ]
  },
  {
   "cell_type": "code",
   "execution_count": null,
   "metadata": {
    "execution": {
     "iopub.execute_input": "2022-01-06T02:34:57.048769Z",
     "iopub.status.busy": "2022-01-06T02:34:57.048465Z",
     "iopub.status.idle": "2022-01-06T02:34:57.057656Z",
     "shell.execute_reply": "2022-01-06T02:34:57.056755Z",
     "shell.execute_reply.started": "2022-01-06T02:34:57.048729Z"
    }
   },
   "outputs": [],
   "source": [
    "print(len(sentences), len(y_true), len(y_pred))"
   ]
  },
  {
   "cell_type": "code",
   "execution_count": null,
   "metadata": {
    "execution": {
     "iopub.execute_input": "2022-01-06T02:34:57.059549Z",
     "iopub.status.busy": "2022-01-06T02:34:57.059194Z",
     "iopub.status.idle": "2022-01-06T02:34:57.071121Z",
     "shell.execute_reply": "2022-01-06T02:34:57.070041Z",
     "shell.execute_reply.started": "2022-01-06T02:34:57.059506Z"
    }
   },
   "outputs": [],
   "source": [
    "#kata = []\n",
    "#for sen, yt, yp in zip(sentences, y_true, y_pred):\n",
    "#    for el_se, el_yt, el_yp in zip(sen, yt, yp):\n",
    "#        kata.append([el_se, el_yt, el_yp])\n",
    "#    kata.append(['--', '--', '--'])"
   ]
  },
  {
   "cell_type": "code",
   "execution_count": null,
   "metadata": {
    "execution": {
     "iopub.execute_input": "2022-01-06T02:34:57.073032Z",
     "iopub.status.busy": "2022-01-06T02:34:57.072752Z",
     "iopub.status.idle": "2022-01-06T02:34:57.081982Z",
     "shell.execute_reply": "2022-01-06T02:34:57.081339Z",
     "shell.execute_reply.started": "2022-01-06T02:34:57.073001Z"
    }
   },
   "outputs": [],
   "source": [
    "#np.savetxt('./myfile.csv', kata, delimiter=',', fmt='%s')"
   ]
  },
  {
   "cell_type": "code",
   "execution_count": null,
   "metadata": {
    "execution": {
     "iopub.execute_input": "2022-01-06T02:34:57.083206Z",
     "iopub.status.busy": "2022-01-06T02:34:57.082944Z",
     "iopub.status.idle": "2022-01-06T02:34:59.333776Z",
     "shell.execute_reply": "2022-01-06T02:34:59.332700Z",
     "shell.execute_reply.started": "2022-01-06T02:34:57.083170Z"
    },
    "jupyter": {
     "outputs_hidden": false
    }
   },
   "outputs": [],
   "source": [
    "metrics_results = {'correct': 0, 'incorrect': 0, 'partial': 0, 'missed': 0, 'spurious': 0, 'possible': 0, 'actual': 0, 'precision': 0, 'recall': 0}\n",
    "\n",
    "# overall results\n",
    "results = {'strict':   deepcopy(metrics_results),\n",
    "           'ent_type': deepcopy(metrics_results),\n",
    "           'partial':  deepcopy(metrics_results),\n",
    "           'exact':    deepcopy(metrics_results)\n",
    "          }\n",
    "\n",
    "\n",
    "# results aggregated by entity type\n",
    "evaluation_agg_entities_type = {e: deepcopy(results) for e in categories}\n",
    "\n",
    "ki = 0\n",
    "for true_ents0, pred_ents0 in zip(y_true, y_pred):\n",
    "    \n",
    "    true_ents = true_ents0.tolist()\n",
    "    pred_ents = pred_ents0.tolist()\n",
    "    \n",
    "    try:\n",
    "        while True:\n",
    "            true_ents.remove('[CLS]')\n",
    "    except ValueError:\n",
    "        pass\n",
    "    \n",
    "    try:\n",
    "        while True:\n",
    "            true_ents.remove('[SEP]')\n",
    "    except ValueError:\n",
    "        pass\n",
    "    \n",
    "    try:\n",
    "        while True:\n",
    "            true_ents.remove('[PAD]')\n",
    "    except ValueError:\n",
    "        pass\n",
    "    \n",
    "    try:\n",
    "        while True:\n",
    "            pred_ents.remove('[CLS]')\n",
    "    except ValueError:\n",
    "        pass\n",
    "    \n",
    "    try:\n",
    "        while True:\n",
    "            pred_ents.remove('[SEP]')\n",
    "    except ValueError:\n",
    "        pass\n",
    "    \n",
    "    try:\n",
    "        while True:\n",
    "            pred_ents.remove('[PAD]')\n",
    "    except ValueError:\n",
    "        pass\n",
    "    \n",
    "    \n",
    "    # compute results for one message\n",
    "    tmp_results, tmp_agg_results = compute_metrics(\n",
    "        collect_named_entities(true_ents), collect_named_entities(pred_ents), categories\n",
    "    )\n",
    "    \n",
    "    #print(tmp_results)\n",
    "\n",
    "    # aggregate overall results\n",
    "    for eval_schema in results.keys():\n",
    "        for metric in metrics_results.keys():\n",
    "            results[eval_schema][metric] += tmp_results[eval_schema][metric]\n",
    "            \n",
    "    # Calculate global precision and recall\n",
    "        \n",
    "    results = compute_precision_recall_wrapper(results)\n",
    "\n",
    "\n",
    "    # aggregate results by entity type\n",
    " \n",
    "    for e_type in categories:\n",
    "\n",
    "        for eval_schema in tmp_agg_results[e_type]:\n",
    "\n",
    "            for metric in tmp_agg_results[e_type][eval_schema]:\n",
    "                \n",
    "                evaluation_agg_entities_type[e_type][eval_schema][metric] += tmp_agg_results[e_type][eval_schema][metric]\n",
    "                \n",
    "        # Calculate precision recall at the individual entity level\n",
    "                \n",
    "        evaluation_agg_entities_type[e_type] = compute_precision_recall_wrapper(evaluation_agg_entities_type[e_type])"
   ]
  },
  {
   "cell_type": "code",
   "execution_count": null,
   "metadata": {
    "execution": {
     "iopub.execute_input": "2022-01-06T02:34:59.335220Z",
     "iopub.status.busy": "2022-01-06T02:34:59.334968Z",
     "iopub.status.idle": "2022-01-06T02:34:59.344929Z",
     "shell.execute_reply": "2022-01-06T02:34:59.343880Z",
     "shell.execute_reply.started": "2022-01-06T02:34:59.335191Z"
    }
   },
   "outputs": [],
   "source": [
    "results"
   ]
  },
  {
   "cell_type": "code",
   "execution_count": null,
   "metadata": {
    "execution": {
     "iopub.execute_input": "2022-01-06T02:34:59.346301Z",
     "iopub.status.busy": "2022-01-06T02:34:59.346036Z",
     "iopub.status.idle": "2022-01-06T02:34:59.362674Z",
     "shell.execute_reply": "2022-01-06T02:34:59.362013Z",
     "shell.execute_reply.started": "2022-01-06T02:34:59.346265Z"
    }
   },
   "outputs": [],
   "source": [
    "evaluation_agg_entities_type"
   ]
  },
  {
   "cell_type": "code",
   "execution_count": null,
   "metadata": {
    "execution": {
     "iopub.execute_input": "2022-01-06T02:34:59.364449Z",
     "iopub.status.busy": "2022-01-06T02:34:59.363997Z",
     "iopub.status.idle": "2022-01-06T02:34:59.374784Z",
     "shell.execute_reply": "2022-01-06T02:34:59.374107Z",
     "shell.execute_reply.started": "2022-01-06T02:34:59.364410Z"
    }
   },
   "outputs": [],
   "source": [
    "evaluator = Evaluator(y_true, y_pred, categories)"
   ]
  },
  {
   "cell_type": "code",
   "execution_count": null,
   "metadata": {
    "execution": {
     "iopub.execute_input": "2022-01-06T02:34:59.376965Z",
     "iopub.status.busy": "2022-01-06T02:34:59.376408Z",
     "iopub.status.idle": "2022-01-06T02:35:02.675658Z",
     "shell.execute_reply": "2022-01-06T02:35:02.674799Z",
     "shell.execute_reply.started": "2022-01-06T02:34:59.376924Z"
    }
   },
   "outputs": [],
   "source": [
    "results2, results_agg = evaluator.evaluate()"
   ]
  },
  {
   "cell_type": "code",
   "execution_count": null,
   "metadata": {
    "execution": {
     "iopub.execute_input": "2022-01-06T02:35:02.677022Z",
     "iopub.status.busy": "2022-01-06T02:35:02.676790Z",
     "iopub.status.idle": "2022-01-06T02:35:02.684305Z",
     "shell.execute_reply": "2022-01-06T02:35:02.683349Z",
     "shell.execute_reply.started": "2022-01-06T02:35:02.676994Z"
    }
   },
   "outputs": [],
   "source": [
    "results2"
   ]
  },
  {
   "cell_type": "code",
   "execution_count": null,
   "metadata": {
    "execution": {
     "iopub.execute_input": "2022-01-06T02:35:02.686994Z",
     "iopub.status.busy": "2022-01-06T02:35:02.686708Z",
     "iopub.status.idle": "2022-01-06T02:35:02.703214Z",
     "shell.execute_reply": "2022-01-06T02:35:02.702287Z",
     "shell.execute_reply.started": "2022-01-06T02:35:02.686941Z"
    }
   },
   "outputs": [],
   "source": [
    "results_agg"
   ]
  }
 ],
 "metadata": {
  "kernelspec": {
   "display_name": "Python 3",
   "language": "python",
   "name": "python3"
  },
  "language_info": {
   "codemirror_mode": {
    "name": "ipython",
    "version": 3
   },
   "file_extension": ".py",
   "mimetype": "text/x-python",
   "name": "python",
   "nbconvert_exporter": "python",
   "pygments_lexer": "ipython3",
   "version": "3.8.5"
  }
 },
 "nbformat": 4,
 "nbformat_minor": 4
}
