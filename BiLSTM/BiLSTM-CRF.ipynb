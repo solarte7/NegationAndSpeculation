{
 "cells": [
  {
   "cell_type": "markdown",
   "metadata": {},
   "source": [
    "## Modelo Deep learning NER con bilstm y crf - bioEmb_300_skyp\n",
    "\n",
    "### Definicion de Parametro e Hiperparametros del Modelo"
   ]
  },
  {
   "cell_type": "code",
   "execution_count": null,
   "metadata": {},
   "outputs": [],
   "source": [
    "import sys\n",
    "sys.path.append('./libs')\n",
    "\n",
    "import tensorflow as tf\n",
    "import matplotlib.pyplot as plt\n",
    "import numpy as np\n",
    "import pickle\n",
    "import pandas as pd\n",
    "from itertools import islice\n",
    "\n",
    "from tabulate import tabulate\n",
    "from sklearn.metrics import confusion_matrix\n",
    "from sklearn.metrics import classification_report as eskclarep\n",
    "from seqeval.metrics import precision_score, recall_score, f1_score, accuracy_score\n",
    "from seqeval.metrics import classification_report as seqclarep\n",
    "from sklearn.preprocessing import LabelBinarizer\n",
    "from itertools import chain\n",
    "\n",
    "from tensorflow import keras\n",
    "from tensorflow.keras.preprocessing.sequence import pad_sequences\n",
    "from tensorflow.keras.models import Model, Sequential\n",
    "from tensorflow.keras.layers import Concatenate, Lambda, Input, LSTM, Embedding, Dense, TimeDistributed, Dropout, Bidirectional, InputLayer, Activation, Flatten, Masking\n",
    "from tensorflow.keras.optimizers import Adam, schedules\n",
    "\n",
    "from tf2crf import CRF as crf6\n",
    "from mwrapper import ModelWithCRFLoss, ModelWithCRFLossDSCLoss\n",
    "from utils import build_matrix_embeddings as bme, plot_model_performance, logits_to_tokens, report_to_df\n",
    "\n",
    "from tensorflow.keras.callbacks import ModelCheckpoint\n",
    "from tensorflow.keras.callbacks import TensorBoard\n",
    "\n",
    "from IPython.core.display import display, HTML\n",
    "\n",
    "import datetime, os\n",
    "import random\n",
    "\n",
    "SEED = 42\n",
    "os.environ['PYTHONHASHSEED']=str(SEED)\n",
    "os.environ['TF_CUDNN_DETERMINISTIC'] = '1'  # TF 2.1+\n",
    "random.seed(SEED)\n",
    "np.random.seed(SEED)\n",
    "tf.random.set_seed(SEED)\n",
    "\n",
    "MODEL         = 'base_model_bioEmb_300_skyp'\n",
    "logs_base_dir = \"./logs\"\n",
    "log_dir       = logs_base_dir + \"/\" + MODEL\n",
    "save_base_dir = './model-save'\n",
    "save_dir      = save_base_dir + \"/\" + MODEL\n",
    "\n",
    "os.makedirs(logs_base_dir, exist_ok=True)\n",
    "os.makedirs(log_dir,       exist_ok=True)\n",
    "os.makedirs(save_base_dir, exist_ok=True)\n",
    "os.makedirs(save_dir,      exist_ok=True)\n",
    "\n",
    "%load_ext tensorboard\n",
    "\n",
    "# ****** DEFINICION DE PARAMETROS *********\n",
    "NUM_WORDS       = 25331 + 2\n",
    "LEN_SENTS       = 190\n",
    "NUM_TAGS        = 9 + 2\n",
    "\n",
    "# ****** DEFINICION DE HIPERPARAMETROS *********\n",
    "_EPOCHS         = 75\n",
    "EMBED_DIM       = 300\n",
    "_DROPOUT        = 0.5\n",
    "_BACH_SIZE      = 512 + 256\n",
    "_LEARN_RATE     = 1e-2\n",
    "\n",
    "\n",
    "gpus = tf.config.experimental.list_physical_devices('GPU')\n",
    "if gpus:\n",
    "    try:\n",
    "        # Currently, memory growth needs to be the same across GPUs\n",
    "        for gpu in gpus:\n",
    "            tf.config.experimental.set_memory_growth(gpu, True)\n",
    "            \n",
    "        logical_gpus = tf.config.experimental.list_logical_devices('GPU')\n",
    "        print(len(gpus), \"Physical GPUs,\", len(logical_gpus), \"Logical GPUs\")\n",
    "    except RuntimeError as e:\n",
    "        # Memory growth must be set before GPUs have been initialized\n",
    "        print(e)"
   ]
  },
  {
   "cell_type": "markdown",
   "metadata": {},
   "source": [
    "## Se cargan los datos de Entrenamiento"
   ]
  },
  {
   "cell_type": "code",
   "execution_count": null,
   "metadata": {},
   "outputs": [],
   "source": [
    "test_sentences = []\n",
    "with open(\"./vectors/sentences_test.txt\", \"rb\") as fp:\n",
    "    test_sentences = pickle.load(fp)\n",
    "    \n",
    "## ********** Oraciones ********** ##\n",
    "word2idx = np.load('./vectors/word2index.npy', allow_pickle=True).item()\n",
    "tag2idx  = np.load('./vectors/tag2index.npy', allow_pickle=True).item()\n",
    "idx2tag  = np.load('./vectors/index2tag.npy', allow_pickle=True).item()\n",
    "\n",
    "X_train = np.load('./vectors/X_train.npy')\n",
    "X_test  = np.load('./vectors/X_test.npy')\n",
    "X_dev   = np.load('./vectors/X_dev.npy')\n",
    "\n",
    "\n",
    "## ********** Salidas ********** ##\n",
    "y_train  = np.load('./vectors/y_train.npy')\n",
    "y_test   = np.load('./vectors/y_test.npy')\n",
    "y_dev    = np.load('./vectors/y_dev.npy')"
   ]
  },
  {
   "cell_type": "markdown",
   "metadata": {},
   "source": [
    "## Pruebas de carga de datos"
   ]
  },
  {
   "cell_type": "code",
   "execution_count": null,
   "metadata": {},
   "outputs": [],
   "source": [
    "#print('**** Diccionario de palabras: ****\\n')\n",
    "#for key, value in word2idx.items():\n",
    "#    if value == 10:\n",
    "#        break\n",
    "#    else:\n",
    "#        print(key, ' : ', value)\n",
    "        \n",
    "#print(X_train[0])\n",
    "#print(len(X_train))\n",
    "\n",
    "#print(y_train[0])\n",
    "#print(len(y_train))\n",
    "#print(len(y_test))\n",
    "#print(len(y_dev))\n",
    "\n",
    "print(tag2idx)"
   ]
  },
  {
   "cell_type": "markdown",
   "metadata": {},
   "source": [
    "### Se carga el embedding"
   ]
  },
  {
   "cell_type": "code",
   "execution_count": null,
   "metadata": {},
   "outputs": [],
   "source": [
    "file = './embedding/Biomed/biomedical/cased/skipgram/d300/bio_es.vec'\n",
    "embedding_matrix = bme(file, NUM_WORDS, EMBED_DIM, word2idx)"
   ]
  },
  {
   "cell_type": "markdown",
   "metadata": {},
   "source": [
    "## Definición del Modelo"
   ]
  },
  {
   "cell_type": "code",
   "execution_count": null,
   "metadata": {},
   "outputs": [],
   "source": [
    "loss      = tf.keras.losses.SparseCategoricalCrossentropy(from_logits=True)\n",
    "optimizer = keras.optimizers.Adam(lr=_LEARN_RATE)"
   ]
  },
  {
   "cell_type": "code",
   "execution_count": null,
   "metadata": {},
   "outputs": [],
   "source": [
    "strategy = tf.distribute.MirroredStrategy()\n",
    "\n",
    "with strategy.scope():\n",
    "    # Input Layer\n",
    "    input1 = Input(shape=(LEN_SENTS,), dtype='int32')\n",
    "\n",
    "    # Embedding Layer\n",
    "    sentences = Embedding(NUM_WORDS,\n",
    "                        EMBED_DIM,\n",
    "                        input_length=LEN_SENTS,  \n",
    "                        weights=[embedding_matrix],\n",
    "                        trainable=False,\n",
    "                        mask_zero=False)(input1)\n",
    "\n",
    "    drp_sentences = Dropout(_DROPOUT, name='dropout_sentences')(sentences)\n",
    "\n",
    "    # BI-LSTM Layer\n",
    "    myModel = Bidirectional(LSTM(EMBED_DIM, \n",
    "                                 return_sequences=True\n",
    "                                ),\n",
    "                            name='bilstm1')(drp_sentences)\n",
    "    \n",
    "\n",
    "    myModel  = Dropout(_DROPOUT, name='dropout_lstm')(myModel)\n",
    "    myModel  = Dense(units=EMBED_DIM * 2, activation='relu')(myModel)\n",
    "    myModel  = Dense(units=NUM_TAGS, activation='relu')(myModel)\n",
    "    \n",
    "    myModel  = Masking(mask_value=0.,input_shape=(LEN_SENTS, NUM_TAGS))(myModel)\n",
    "    \n",
    "    crf = crf6(units=NUM_TAGS, name=\"ner_crf\")\n",
    "    predictions = crf(myModel)\n",
    "\n",
    "    base_model = Model(inputs=input1, outputs=predictions)\n",
    "    model = ModelWithCRFLoss(base_model, sparse_target=True)\n",
    "    \n",
    "    model.compile(optimizer=optimizer, loss=loss)\n",
    "\n",
    "#model.summary()"
   ]
  },
  {
   "cell_type": "markdown",
   "metadata": {},
   "source": [
    "## Entranamiento del modelo"
   ]
  },
  {
   "cell_type": "code",
   "execution_count": null,
   "metadata": {},
   "outputs": [],
   "source": [
    "tensorboard_callback = TensorBoard(log_dir=log_dir, histogram_freq=1)\n",
    "\n",
    "# Fit the best model\n",
    "history = model.fit(X_train, y_train, \n",
    "                      validation_data  = (X_dev, y_dev),\n",
    "                      batch_size       = _BACH_SIZE, \n",
    "                      epochs           = _EPOCHS,\n",
    "                      verbose          = 1, \n",
    "                      callbacks        = [tensorboard_callback])"
   ]
  },
  {
   "cell_type": "markdown",
   "metadata": {},
   "source": [
    "### se almacena el modelo"
   ]
  },
  {
   "cell_type": "code",
   "execution_count": null,
   "metadata": {},
   "outputs": [],
   "source": [
    "# serialize model to JSON\n",
    "#model_json = model.to_json()\n",
    "#with open(save_dir + \"/\" + MODEL + \".json\", \"w\") as json_file:\n",
    "#    json_file.write(model_json)\n",
    "\n",
    "# serialize weights to HDF5\n",
    "#model.save_weights(save_dir + \"/\" + MODEL + \".h5\")\n",
    "#print(\"Saved model to disk\")\n",
    "model.save(save_dir + \"/\")\n",
    "print(\"Saved model to disk\")"
   ]
  },
  {
   "cell_type": "markdown",
   "metadata": {},
   "source": [
    "### Evaluamos el modelo y calculamos el valor de precision con respecto a los datos de prueba"
   ]
  },
  {
   "cell_type": "code",
   "execution_count": null,
   "metadata": {},
   "outputs": [],
   "source": [
    "scores = model.evaluate(X_test, y_test)\n",
    "print(f\"{model.metrics_names[1]}: {scores[1] * 100}\")"
   ]
  },
  {
   "cell_type": "markdown",
   "metadata": {},
   "source": [
    "###  Procedemos a Graficar el comportamiento del Entrenamiento, tanto del conjunto de entrenamiento como el de validación con respecto a la cantidad de epocas"
   ]
  },
  {
   "cell_type": "code",
   "execution_count": null,
   "metadata": {},
   "outputs": [],
   "source": [
    "plot_model_performance(\n",
    "    train_loss     = history.history.get('loss', []),\n",
    "    train_acc      = history.history.get('accuracy', []),\n",
    "    train_val_loss = history.history.get('val_loss_val', []),\n",
    "    train_val_acc  = history.history.get('val_val_accuracy', [])\n",
    ")"
   ]
  },
  {
   "cell_type": "markdown",
   "metadata": {},
   "source": [
    "### Hacemos la prediccion sobre el conjunto de pruebas"
   ]
  },
  {
   "cell_type": "code",
   "execution_count": null,
   "metadata": {},
   "outputs": [],
   "source": [
    "#print(idx2tag[6])\n",
    "prediction = model.predict(X_test)"
   ]
  },
  {
   "cell_type": "code",
   "execution_count": null,
   "metadata": {},
   "outputs": [],
   "source": [
    "y_pred = logits_to_tokens(prediction, idx2tag)\n",
    "#print(y_pred[0])"
   ]
  },
  {
   "cell_type": "code",
   "execution_count": null,
   "metadata": {},
   "outputs": [],
   "source": [
    "#print(y_pred[0], \"\\n\")\n",
    "#print(test_sentences[0])"
   ]
  },
  {
   "cell_type": "markdown",
   "metadata": {},
   "source": [
    "### Hallamos los valores de F1 score, recall, precision"
   ]
  },
  {
   "cell_type": "code",
   "execution_count": null,
   "metadata": {},
   "outputs": [],
   "source": [
    "y_true = []\n",
    "for i, oracion in enumerate(test_sentences):\n",
    "    row_sent = []\n",
    " \n",
    "    for j, lista_palabras in enumerate(oracion):\n",
    "        row_sent.append(lista_palabras[1])\n",
    "\n",
    "    qekk = ['-PAD-'] * LEN_SENTS\n",
    "\n",
    "    qekk[:len(row_sent)] = row_sent\n",
    "    y_true.append(qekk)"
   ]
  },
  {
   "cell_type": "code",
   "execution_count": null,
   "metadata": {},
   "outputs": [],
   "source": [
    "#prub = np.argmax(y_test, axis=-1)\n",
    "#print(idx2tag)\n",
    "#print(prub[0])\n",
    "#print(y_true[0])\n",
    "#print(len(y_true))\n",
    "#print(len(y_true[0]))\n",
    "#print(len(y_true[1]), \"\\n\")"
   ]
  },
  {
   "cell_type": "code",
   "execution_count": null,
   "metadata": {},
   "outputs": [],
   "source": [
    "li1 = sum(y_true, [])\n",
    "li2 = sum(y_pred, [])\n",
    "\n",
    "results = pd.DataFrame(columns=['Expected', 'Predicted'])\n",
    "\n",
    "results['Expected'] = li1\n",
    "results['Predicted'] = li2"
   ]
  },
  {
   "cell_type": "code",
   "execution_count": null,
   "metadata": {
    "scrolled": true
   },
   "outputs": [],
   "source": [
    "#hh1 = seqclarep(results['Expected'], results['Predicted'])\n",
    "#print('\\nclassification_report:\\n', hh1)\n",
    "\n",
    "\n",
    "print(\"precision: {:.1%}\".format(precision_score(y_true, y_pred)))\n",
    "print(\"   recall: {:.1%}\".format(recall_score(y_true,    y_pred)))\n",
    "print(\" accuracy: {:.1%}\".format(accuracy_score(y_true,  y_pred)))\n",
    "print(\" F1-score: {:.1%}\".format(f1_score(y_true,        y_pred)))"
   ]
  },
  {
   "cell_type": "markdown",
   "metadata": {},
   "source": [
    "### Hallamos el calculo de cada una de las etiquetas por separado"
   ]
  },
  {
   "cell_type": "code",
   "execution_count": null,
   "metadata": {},
   "outputs": [],
   "source": [
    "report = eskclarep(results['Expected'], results['Predicted'])\n",
    "print(report_to_df(report))"
   ]
  },
  {
   "cell_type": "code",
   "execution_count": null,
   "metadata": {},
   "outputs": [],
   "source": [
    "import pandas as pd\n",
    "import seaborn as sn\n",
    "import matplotlib.pyplot as plt\n",
    "\n",
    "data = {'y_Actual':    results['Expected'],\n",
    "        'y_Predicted': results['Predicted']\n",
    "        }\n",
    "\n",
    "df = pd.DataFrame(data, columns=['y_Actual','y_Predicted'])\n",
    "confusion_matrix = pd.crosstab(df['y_Actual'], df['y_Predicted'], rownames=['Actual'], colnames=['Predicted'], margins = True)\n",
    "\n",
    "sn.heatmap(confusion_matrix, annot=True)\n",
    "\n",
    "plt.rcParams[\"figure.figsize\"] = (20,10)\n",
    "plt.show()"
   ]
  },
  {
   "cell_type": "markdown",
   "metadata": {},
   "source": [
    "### Conversión de la salida del modelo a un lista de indices de tags"
   ]
  },
  {
   "cell_type": "code",
   "execution_count": null,
   "metadata": {
    "scrolled": true
   },
   "outputs": [],
   "source": [
    "log_tokens1 = logits_to_tokens(predictions1, idx2tag)\n",
    "log_tokens2 = logits_to_tokens(predictions2, idx2tag)\n",
    "log_tokens3 = logits_to_tokens(predictions3, idx2tag)\n",
    "\n",
    "\n",
    "print(\"Negation: \\n\", log_tokens1[0])\n",
    "print(\"\\nUncertainty: \\n\", log_tokens2[0])\n",
    "print(\"\\nBoth: \\n\", log_tokens3[0])"
   ]
  },
  {
   "cell_type": "markdown",
   "metadata": {},
   "source": [
    "## Resultado de Negations: "
   ]
  },
  {
   "cell_type": "code",
   "execution_count": null,
   "metadata": {},
   "outputs": [],
   "source": [
    "for h, oracc in enumerate(negation_samples):\n",
    "    heads = oracc\n",
    "    body  = [log_tokens1[h][:len(oracc)]]\n",
    "    display(HTML(\"<div style='overflow-x: auto; white-space: nowrap;'>\" + \n",
    "                 tabulate(body, headers=heads, tablefmt=\"html\") + \n",
    "                 \"</div>\"))"
   ]
  },
  {
   "cell_type": "markdown",
   "metadata": {},
   "source": [
    "## Resultado de Uncertainty:"
   ]
  },
  {
   "cell_type": "code",
   "execution_count": null,
   "metadata": {},
   "outputs": [],
   "source": [
    "for i, oracci in enumerate(uncertainty_samples):\n",
    "    heads = oracci\n",
    "    body  = [log_tokens2[i][:len(oracci)]]\n",
    "    display(HTML(\"<div style='overflow-x: auto; white-space: nowrap;'>\" + \n",
    "                 tabulate(body, headers=heads, tablefmt=\"html\") + \n",
    "                 \"</div>\"))"
   ]
  },
  {
   "cell_type": "markdown",
   "metadata": {},
   "source": [
    "## Resultado de Both:"
   ]
  },
  {
   "cell_type": "code",
   "execution_count": null,
   "metadata": {},
   "outputs": [],
   "source": [
    "for j, oraccio in enumerate(both_samples):\n",
    "    heads = oraccio\n",
    "    body  = [log_tokens3[j][:len(oraccio)]]\n",
    "    display(HTML(\"<div style='overflow-x: auto; white-space: nowrap;'>\" + \n",
    "                 tabulate(body, headers=heads, tablefmt=\"html\") + \n",
    "                 \"</div>\"))\n",
    "    print(\"\\n\")"
   ]
  },
  {
   "cell_type": "code",
   "execution_count": null,
   "metadata": {},
   "outputs": [],
   "source": []
  }
 ],
 "metadata": {
  "kernelspec": {
   "display_name": "Python 3",
   "language": "python",
   "name": "python3"
  },
  "language_info": {
   "codemirror_mode": {
    "name": "ipython",
    "version": 3
   },
   "file_extension": ".py",
   "mimetype": "text/x-python",
   "name": "python",
   "nbconvert_exporter": "python",
   "pygments_lexer": "ipython3",
   "version": "3.8.5"
  }
 },
 "nbformat": 4,
 "nbformat_minor": 4
}
